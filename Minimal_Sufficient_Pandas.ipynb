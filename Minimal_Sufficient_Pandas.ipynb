{
  "nbformat": 4,
  "nbformat_minor": 0,
  "metadata": {
    "colab": {
      "name": "Minimal Sufficient Pandas.ipynb",
      "provenance": [],
      "include_colab_link": true
    },
    "kernelspec": {
      "name": "python3",
      "display_name": "Python 3"
    }
  },
  "cells": [
    {
      "cell_type": "markdown",
      "metadata": {
        "id": "view-in-github",
        "colab_type": "text"
      },
      "source": [
        "<a href=\"https://colab.research.google.com/github/lalitgarg12/python-exercises/blob/master/Minimal_Sufficient_Pandas.ipynb\" target=\"_parent\"><img src=\"https://colab.research.google.com/assets/colab-badge.svg\" alt=\"Open In Colab\"/></a>"
      ]
    },
    {
      "cell_type": "markdown",
      "metadata": {
        "id": "c-MotrRiVzY1",
        "colab_type": "text"
      },
      "source": [
        "Minimally Sufficient Pandas - All sources referenced from Ted Petrou Github repository"
      ]
    },
    {
      "cell_type": "code",
      "metadata": {
        "id": "FhwNEWrJ2AK8",
        "colab_type": "code",
        "colab": {}
      },
      "source": [
        "import pandas as pd\n"
      ],
      "execution_count": 0,
      "outputs": []
    },
    {
      "cell_type": "code",
      "metadata": {
        "id": "8l44hk1G8ws7",
        "colab_type": "code",
        "colab": {
          "base_uri": "https://localhost:8080/",
          "height": 284
        },
        "outputId": "c2270f4a-a8ce-46e4-ab50-b3d64d6895df"
      },
      "source": [
        "df = pd.read_csv('https://raw.githubusercontent.com/lalitgarg12/python-exercises/master/sample_data.csv',index_col=0)\n",
        "df"
      ],
      "execution_count": 8,
      "outputs": [
        {
          "output_type": "execute_result",
          "data": {
            "text/html": [
              "<div>\n",
              "<style scoped>\n",
              "    .dataframe tbody tr th:only-of-type {\n",
              "        vertical-align: middle;\n",
              "    }\n",
              "\n",
              "    .dataframe tbody tr th {\n",
              "        vertical-align: top;\n",
              "    }\n",
              "\n",
              "    .dataframe thead th {\n",
              "        text-align: right;\n",
              "    }\n",
              "</style>\n",
              "<table border=\"1\" class=\"dataframe\">\n",
              "  <thead>\n",
              "    <tr style=\"text-align: right;\">\n",
              "      <th></th>\n",
              "      <th>state</th>\n",
              "      <th>color</th>\n",
              "      <th>favorite food</th>\n",
              "      <th>age</th>\n",
              "      <th>height</th>\n",
              "      <th>score</th>\n",
              "      <th>count</th>\n",
              "    </tr>\n",
              "    <tr>\n",
              "      <th>name</th>\n",
              "      <th></th>\n",
              "      <th></th>\n",
              "      <th></th>\n",
              "      <th></th>\n",
              "      <th></th>\n",
              "      <th></th>\n",
              "      <th></th>\n",
              "    </tr>\n",
              "  </thead>\n",
              "  <tbody>\n",
              "    <tr>\n",
              "      <th>Jane</th>\n",
              "      <td>NY</td>\n",
              "      <td>blue</td>\n",
              "      <td>Steak</td>\n",
              "      <td>30</td>\n",
              "      <td>165</td>\n",
              "      <td>4.6</td>\n",
              "      <td>10</td>\n",
              "    </tr>\n",
              "    <tr>\n",
              "      <th>Niko</th>\n",
              "      <td>TX</td>\n",
              "      <td>green</td>\n",
              "      <td>Lamb</td>\n",
              "      <td>2</td>\n",
              "      <td>70</td>\n",
              "      <td>8.3</td>\n",
              "      <td>4</td>\n",
              "    </tr>\n",
              "    <tr>\n",
              "      <th>Aaron</th>\n",
              "      <td>FL</td>\n",
              "      <td>red</td>\n",
              "      <td>Mango</td>\n",
              "      <td>12</td>\n",
              "      <td>120</td>\n",
              "      <td>9.0</td>\n",
              "      <td>3</td>\n",
              "    </tr>\n",
              "    <tr>\n",
              "      <th>Penelope</th>\n",
              "      <td>AL</td>\n",
              "      <td>white</td>\n",
              "      <td>Apple</td>\n",
              "      <td>4</td>\n",
              "      <td>80</td>\n",
              "      <td>3.3</td>\n",
              "      <td>12</td>\n",
              "    </tr>\n",
              "    <tr>\n",
              "      <th>Dean</th>\n",
              "      <td>AK</td>\n",
              "      <td>gray</td>\n",
              "      <td>Cheese</td>\n",
              "      <td>32</td>\n",
              "      <td>180</td>\n",
              "      <td>1.8</td>\n",
              "      <td>8</td>\n",
              "    </tr>\n",
              "    <tr>\n",
              "      <th>Christina</th>\n",
              "      <td>TX</td>\n",
              "      <td>black</td>\n",
              "      <td>Melon</td>\n",
              "      <td>33</td>\n",
              "      <td>172</td>\n",
              "      <td>9.5</td>\n",
              "      <td>99</td>\n",
              "    </tr>\n",
              "    <tr>\n",
              "      <th>Cornelia</th>\n",
              "      <td>TX</td>\n",
              "      <td>red</td>\n",
              "      <td>Beans</td>\n",
              "      <td>69</td>\n",
              "      <td>150</td>\n",
              "      <td>2.2</td>\n",
              "      <td>44</td>\n",
              "    </tr>\n",
              "  </tbody>\n",
              "</table>\n",
              "</div>"
            ],
            "text/plain": [
              "          state  color favorite food  age  height  score  count\n",
              "name                                                           \n",
              "Jane         NY   blue         Steak   30     165    4.6     10\n",
              "Niko         TX  green          Lamb    2      70    8.3      4\n",
              "Aaron        FL    red         Mango   12     120    9.0      3\n",
              "Penelope     AL  white         Apple    4      80    3.3     12\n",
              "Dean         AK   gray        Cheese   32     180    1.8      8\n",
              "Christina    TX  black         Melon   33     172    9.5     99\n",
              "Cornelia     TX    red         Beans   69     150    2.2     44"
            ]
          },
          "metadata": {
            "tags": []
          },
          "execution_count": 8
        }
      ]
    },
    {
      "cell_type": "markdown",
      "metadata": {
        "id": "UyYRQQkcWIFl",
        "colab_type": "text"
      },
      "source": [
        "**Selection with the brackets**\n",
        "\n",
        "Placing a column name in the brackets appended to a DataFrame selects a single column of a DataFrame as a Series."
      ]
    },
    {
      "cell_type": "code",
      "metadata": {
        "id": "ORFFgA6lVx7B",
        "colab_type": "code",
        "colab": {
          "base_uri": "https://localhost:8080/",
          "height": 151
        },
        "outputId": "679f033f-463a-4f1c-ce40-745dbbe1260a"
      },
      "source": [
        "df['state']"
      ],
      "execution_count": 4,
      "outputs": [
        {
          "output_type": "execute_result",
          "data": {
            "text/plain": [
              "Jane         NY\n",
              "Niko         TX\n",
              "Aaron        FL\n",
              "Penelope     AL\n",
              "Dean         AK\n",
              "Christina    TX\n",
              "Cornelia     TX\n",
              "Name: state, dtype: object"
            ]
          },
          "metadata": {
            "tags": []
          },
          "execution_count": 4
        }
      ]
    },
    {
      "cell_type": "markdown",
      "metadata": {
        "id": "AGeDwsP1WR3N",
        "colab_type": "text"
      },
      "source": [
        "**Selection with dot notation**\n",
        "\n",
        "Alternatively, you may select a single column with dot notation. Simply, place the name of the column after the dot operator. The output is the exact same as above."
      ]
    },
    {
      "cell_type": "code",
      "metadata": {
        "id": "tdEB6FTiWYz2",
        "colab_type": "code",
        "colab": {
          "base_uri": "https://localhost:8080/",
          "height": 151
        },
        "outputId": "c5fd5bb7-8d77-4fa7-c52e-6b588518ea0d"
      },
      "source": [
        "df.state"
      ],
      "execution_count": 5,
      "outputs": [
        {
          "output_type": "execute_result",
          "data": {
            "text/plain": [
              "Jane         NY\n",
              "Niko         TX\n",
              "Aaron        FL\n",
              "Penelope     AL\n",
              "Dean         AK\n",
              "Christina    TX\n",
              "Cornelia     TX\n",
              "Name: state, dtype: object"
            ]
          },
          "metadata": {
            "tags": []
          },
          "execution_count": 5
        }
      ]
    },
    {
      "cell_type": "markdown",
      "metadata": {
        "id": "woKgGGVkWs4l",
        "colab_type": "text"
      },
      "source": [
        "**Issues with the dot notation**\n",
        "\n",
        "There are three issues with using dot notation. It doesn’t work in the following situations:\n",
        "\n",
        "- When there are spaces in the column name\n",
        "- When the column name is the same as a DataFrame method\n",
        "- When the column name is a variable"
      ]
    },
    {
      "cell_type": "code",
      "metadata": {
        "id": "0rA8_vg7Wl8x",
        "colab_type": "code",
        "colab": {
          "base_uri": "https://localhost:8080/",
          "height": 128
        },
        "outputId": "112a0b4f-3f59-4dfb-996f-13af6201fcc3"
      },
      "source": [
        "df.favorite food"
      ],
      "execution_count": 6,
      "outputs": [
        {
          "output_type": "error",
          "ename": "SyntaxError",
          "evalue": "ignored",
          "traceback": [
            "\u001b[0;36m  File \u001b[0;32m\"<ipython-input-6-d3097dad1f65>\"\u001b[0;36m, line \u001b[0;32m1\u001b[0m\n\u001b[0;31m    df.favorite food\u001b[0m\n\u001b[0m                   ^\u001b[0m\n\u001b[0;31mSyntaxError\u001b[0m\u001b[0;31m:\u001b[0m invalid syntax\n"
          ]
        }
      ]
    },
    {
      "cell_type": "markdown",
      "metadata": {
        "id": "QE1s93y3W-zN",
        "colab_type": "text"
      },
      "source": [
        "You can only use the brackets to select columns with spaces."
      ]
    },
    {
      "cell_type": "code",
      "metadata": {
        "id": "86XglT6IXA4X",
        "colab_type": "code",
        "colab": {
          "base_uri": "https://localhost:8080/",
          "height": 168
        },
        "outputId": "f9bfa80a-731b-4180-ef95-2acfae8b94f4"
      },
      "source": [
        "df['favorite food']"
      ],
      "execution_count": 9,
      "outputs": [
        {
          "output_type": "execute_result",
          "data": {
            "text/plain": [
              "name\n",
              "Jane          Steak\n",
              "Niko           Lamb\n",
              "Aaron         Mango\n",
              "Penelope      Apple\n",
              "Dean         Cheese\n",
              "Christina     Melon\n",
              "Cornelia      Beans\n",
              "Name: favorite food, dtype: object"
            ]
          },
          "metadata": {
            "tags": []
          },
          "execution_count": 9
        }
      ]
    },
    {
      "cell_type": "markdown",
      "metadata": {
        "id": "BySb-zySYe5s",
        "colab_type": "text"
      },
      "source": [
        "**The column name is the same as a DataFrame method**\n",
        "\n",
        "When a column name and a DataFrame method collide, Pandas will always reference the method and not the column name. For instance, the column namecount is a method and will be referenced when using dot notation. This actually doesn’t produce an error as Python allows you to reference methods without calling them. Let’s reference this method now."
      ]
    },
    {
      "cell_type": "code",
      "metadata": {
        "id": "HNzb-Mm5YozN",
        "colab_type": "code",
        "colab": {
          "base_uri": "https://localhost:8080/",
          "height": 168
        },
        "outputId": "876c249d-9e1b-484e-a485-430e88bb80ef"
      },
      "source": [
        "df.count"
      ],
      "execution_count": 10,
      "outputs": [
        {
          "output_type": "execute_result",
          "data": {
            "text/plain": [
              "<bound method DataFrame.count of           state  color favorite food  age  height  score  count\n",
              "name                                                           \n",
              "Jane         NY   blue         Steak   30     165    4.6     10\n",
              "Niko         TX  green          Lamb    2      70    8.3      4\n",
              "Aaron        FL    red         Mango   12     120    9.0      3\n",
              "Penelope     AL  white         Apple    4      80    3.3     12\n",
              "Dean         AK   gray        Cheese   32     180    1.8      8\n",
              "Christina    TX  black         Melon   33     172    9.5     99\n",
              "Cornelia     TX    red         Beans   69     150    2.2     44>"
            ]
          },
          "metadata": {
            "tags": []
          },
          "execution_count": 10
        }
      ]
    },
    {
      "cell_type": "markdown",
      "metadata": {
        "id": "a6PX91sDY4N0",
        "colab_type": "text"
      },
      "source": [
        "Regardless, it’s clear that using dot notation did not select a single column of the DataFrame as a Series. Again, you must use the brackets when selecting a column with the same name as a DataFrame method."
      ]
    },
    {
      "cell_type": "code",
      "metadata": {
        "id": "8mraiIMtY5To",
        "colab_type": "code",
        "colab": {
          "base_uri": "https://localhost:8080/",
          "height": 168
        },
        "outputId": "89625c54-62a7-4e0d-cc2e-8ddc67bda34f"
      },
      "source": [
        "df['count']"
      ],
      "execution_count": 11,
      "outputs": [
        {
          "output_type": "execute_result",
          "data": {
            "text/plain": [
              "name\n",
              "Jane         10\n",
              "Niko          4\n",
              "Aaron         3\n",
              "Penelope     12\n",
              "Dean          8\n",
              "Christina    99\n",
              "Cornelia     44\n",
              "Name: count, dtype: int64"
            ]
          },
          "metadata": {
            "tags": []
          },
          "execution_count": 11
        }
      ]
    },
    {
      "cell_type": "markdown",
      "metadata": {
        "id": "az677TU1awFs",
        "colab_type": "text"
      },
      "source": [
        "**Guidance: Use the brackets for selecting a column of data**\n",
        "\n",
        "The dot notation provides no additional functionality over the brackets and does not work in all situations. Therefore, I never use it. Its single advantage is three fewer keystrokes."
      ]
    },
    {
      "cell_type": "markdown",
      "metadata": {
        "id": "7s90lQdvcNOt",
        "colab_type": "text"
      },
      "source": [
        "**Performance comparison iloc vs iat vs NumPy**\n",
        "\n",
        "Let’s compare the perfomance of selecting a single cell with iloc, iat and a NumPy array. Here we create a NumPy array with 100k rows and 5 columns containing random data. We then create a DataFrame out of it and make the selections."
      ]
    },
    {
      "cell_type": "code",
      "metadata": {
        "id": "8Lw-ngpEa0rQ",
        "colab_type": "code",
        "colab": {
          "base_uri": "https://localhost:8080/",
          "height": 50
        },
        "outputId": "a54b6ee5-7938-4c6f-81d4-12d1cd188e32"
      },
      "source": [
        "import numpy as np\n",
        "a = np.random.rand(10 ** 5, 5)\n",
        "df1 = pd.DataFrame(a)\n",
        "row = 50000\n",
        "col = 3\n",
        "%timeit df1.iloc[row, col]"
      ],
      "execution_count": 12,
      "outputs": [
        {
          "output_type": "stream",
          "text": [
            "The slowest run took 35.43 times longer than the fastest. This could mean that an intermediate result is being cached.\n",
            "100000 loops, best of 3: 7.62 µs per loop\n"
          ],
          "name": "stdout"
        }
      ]
    },
    {
      "cell_type": "code",
      "metadata": {
        "id": "ZzJ125MYbvPd",
        "colab_type": "code",
        "colab": {
          "base_uri": "https://localhost:8080/",
          "height": 50
        },
        "outputId": "e29b4151-b234-4b3e-eed2-2ee1ea9e0b0b"
      },
      "source": [
        "%timeit df1.iat[row, col]"
      ],
      "execution_count": 13,
      "outputs": [
        {
          "output_type": "stream",
          "text": [
            "The slowest run took 26.59 times longer than the fastest. This could mean that an intermediate result is being cached.\n",
            "100000 loops, best of 3: 5.06 µs per loop\n"
          ],
          "name": "stdout"
        }
      ]
    },
    {
      "cell_type": "code",
      "metadata": {
        "id": "gqShoYAeb6M1",
        "colab_type": "code",
        "colab": {
          "base_uri": "https://localhost:8080/",
          "height": 50
        },
        "outputId": "9006d954-a2db-466a-e006-8729b7ad7d65"
      },
      "source": [
        "%timeit a[row, col]"
      ],
      "execution_count": 14,
      "outputs": [
        {
          "output_type": "stream",
          "text": [
            "The slowest run took 70.95 times longer than the fastest. This could mean that an intermediate result is being cached.\n",
            "10000000 loops, best of 3: 176 ns per loop\n"
          ],
          "name": "stdout"
        }
      ]
    },
    {
      "cell_type": "markdown",
      "metadata": {
        "id": "o2syQ0l2cVYj",
        "colab_type": "text"
      },
      "source": [
        "**Guidance:** Use **NumPy** arrays if your application relies on performance for selecting a single cell of data and **not at or iat**."
      ]
    },
    {
      "cell_type": "markdown",
      "metadata": {
        "id": "5_nm_SeIdTkU",
        "colab_type": "text"
      },
      "source": [
        "**Method Duplication**\n",
        "\n",
        "There are multiple methods in Pandas that do the exact same thing. Whenever two methods share the same exact underlying functionality, we say that they are aliases of each other. Having duplication in a library is completely unnecessary, pollutes the namespace and forces analysts to remember one more bit of information about a library.\n",
        "\n",
        "This next section covers several instances of duplication along with other instances of methods that are very similar to one another."
      ]
    },
    {
      "cell_type": "markdown",
      "metadata": {
        "id": "PRGBScxdhmfd",
        "colab_type": "text"
      },
      "source": [
        "**read_csv vs read_table duplication**"
      ]
    },
    {
      "cell_type": "code",
      "metadata": {
        "id": "b29p4eSIcbQY",
        "colab_type": "code",
        "colab": {
          "base_uri": "https://localhost:8080/",
          "height": 400
        },
        "outputId": "24b43282-7a90-40ff-c8a7-e86495999b6f"
      },
      "source": [
        "college = pd.read_csv('https://raw.githubusercontent.com/lalitgarg12/python-exercises/master/college.csv')\n",
        "college.head()"
      ],
      "execution_count": 16,
      "outputs": [
        {
          "output_type": "execute_result",
          "data": {
            "text/html": [
              "<div>\n",
              "<style scoped>\n",
              "    .dataframe tbody tr th:only-of-type {\n",
              "        vertical-align: middle;\n",
              "    }\n",
              "\n",
              "    .dataframe tbody tr th {\n",
              "        vertical-align: top;\n",
              "    }\n",
              "\n",
              "    .dataframe thead th {\n",
              "        text-align: right;\n",
              "    }\n",
              "</style>\n",
              "<table border=\"1\" class=\"dataframe\">\n",
              "  <thead>\n",
              "    <tr style=\"text-align: right;\">\n",
              "      <th></th>\n",
              "      <th>instnm</th>\n",
              "      <th>city</th>\n",
              "      <th>stabbr</th>\n",
              "      <th>hbcu</th>\n",
              "      <th>menonly</th>\n",
              "      <th>womenonly</th>\n",
              "      <th>relaffil</th>\n",
              "      <th>satvrmid</th>\n",
              "      <th>satmtmid</th>\n",
              "      <th>distanceonly</th>\n",
              "      <th>ugds</th>\n",
              "      <th>ugds_white</th>\n",
              "      <th>ugds_black</th>\n",
              "      <th>ugds_hisp</th>\n",
              "      <th>ugds_asian</th>\n",
              "      <th>ugds_aian</th>\n",
              "      <th>ugds_nhpi</th>\n",
              "      <th>ugds_2mor</th>\n",
              "      <th>ugds_nra</th>\n",
              "      <th>ugds_unkn</th>\n",
              "      <th>pptug_ef</th>\n",
              "      <th>curroper</th>\n",
              "      <th>pctpell</th>\n",
              "      <th>pctfloan</th>\n",
              "      <th>ug25abv</th>\n",
              "      <th>md_earn_wne_p10</th>\n",
              "      <th>grad_debt_mdn_supp</th>\n",
              "    </tr>\n",
              "  </thead>\n",
              "  <tbody>\n",
              "    <tr>\n",
              "      <th>0</th>\n",
              "      <td>Alabama A &amp; M University</td>\n",
              "      <td>Normal</td>\n",
              "      <td>AL</td>\n",
              "      <td>1.0</td>\n",
              "      <td>0.0</td>\n",
              "      <td>0.0</td>\n",
              "      <td>0</td>\n",
              "      <td>424.0</td>\n",
              "      <td>420.0</td>\n",
              "      <td>0.0</td>\n",
              "      <td>4206.0</td>\n",
              "      <td>0.0333</td>\n",
              "      <td>0.9353</td>\n",
              "      <td>0.0055</td>\n",
              "      <td>0.0019</td>\n",
              "      <td>0.0024</td>\n",
              "      <td>0.0019</td>\n",
              "      <td>0.0000</td>\n",
              "      <td>0.0059</td>\n",
              "      <td>0.0138</td>\n",
              "      <td>0.0656</td>\n",
              "      <td>1</td>\n",
              "      <td>0.7356</td>\n",
              "      <td>0.8284</td>\n",
              "      <td>0.1049</td>\n",
              "      <td>30300</td>\n",
              "      <td>33888</td>\n",
              "    </tr>\n",
              "    <tr>\n",
              "      <th>1</th>\n",
              "      <td>University of Alabama at Birmingham</td>\n",
              "      <td>Birmingham</td>\n",
              "      <td>AL</td>\n",
              "      <td>0.0</td>\n",
              "      <td>0.0</td>\n",
              "      <td>0.0</td>\n",
              "      <td>0</td>\n",
              "      <td>570.0</td>\n",
              "      <td>565.0</td>\n",
              "      <td>0.0</td>\n",
              "      <td>11383.0</td>\n",
              "      <td>0.5922</td>\n",
              "      <td>0.2600</td>\n",
              "      <td>0.0283</td>\n",
              "      <td>0.0518</td>\n",
              "      <td>0.0022</td>\n",
              "      <td>0.0007</td>\n",
              "      <td>0.0368</td>\n",
              "      <td>0.0179</td>\n",
              "      <td>0.0100</td>\n",
              "      <td>0.2607</td>\n",
              "      <td>1</td>\n",
              "      <td>0.3460</td>\n",
              "      <td>0.5214</td>\n",
              "      <td>0.2422</td>\n",
              "      <td>39700</td>\n",
              "      <td>21941.5</td>\n",
              "    </tr>\n",
              "    <tr>\n",
              "      <th>2</th>\n",
              "      <td>Amridge University</td>\n",
              "      <td>Montgomery</td>\n",
              "      <td>AL</td>\n",
              "      <td>0.0</td>\n",
              "      <td>0.0</td>\n",
              "      <td>0.0</td>\n",
              "      <td>1</td>\n",
              "      <td>NaN</td>\n",
              "      <td>NaN</td>\n",
              "      <td>1.0</td>\n",
              "      <td>291.0</td>\n",
              "      <td>0.2990</td>\n",
              "      <td>0.4192</td>\n",
              "      <td>0.0069</td>\n",
              "      <td>0.0034</td>\n",
              "      <td>0.0000</td>\n",
              "      <td>0.0000</td>\n",
              "      <td>0.0000</td>\n",
              "      <td>0.0000</td>\n",
              "      <td>0.2715</td>\n",
              "      <td>0.4536</td>\n",
              "      <td>1</td>\n",
              "      <td>0.6801</td>\n",
              "      <td>0.7795</td>\n",
              "      <td>0.8540</td>\n",
              "      <td>40100</td>\n",
              "      <td>23370</td>\n",
              "    </tr>\n",
              "    <tr>\n",
              "      <th>3</th>\n",
              "      <td>University of Alabama in Huntsville</td>\n",
              "      <td>Huntsville</td>\n",
              "      <td>AL</td>\n",
              "      <td>0.0</td>\n",
              "      <td>0.0</td>\n",
              "      <td>0.0</td>\n",
              "      <td>0</td>\n",
              "      <td>595.0</td>\n",
              "      <td>590.0</td>\n",
              "      <td>0.0</td>\n",
              "      <td>5451.0</td>\n",
              "      <td>0.6988</td>\n",
              "      <td>0.1255</td>\n",
              "      <td>0.0382</td>\n",
              "      <td>0.0376</td>\n",
              "      <td>0.0143</td>\n",
              "      <td>0.0002</td>\n",
              "      <td>0.0172</td>\n",
              "      <td>0.0332</td>\n",
              "      <td>0.0350</td>\n",
              "      <td>0.2146</td>\n",
              "      <td>1</td>\n",
              "      <td>0.3072</td>\n",
              "      <td>0.4596</td>\n",
              "      <td>0.2640</td>\n",
              "      <td>45500</td>\n",
              "      <td>24097</td>\n",
              "    </tr>\n",
              "    <tr>\n",
              "      <th>4</th>\n",
              "      <td>Alabama State University</td>\n",
              "      <td>Montgomery</td>\n",
              "      <td>AL</td>\n",
              "      <td>1.0</td>\n",
              "      <td>0.0</td>\n",
              "      <td>0.0</td>\n",
              "      <td>0</td>\n",
              "      <td>425.0</td>\n",
              "      <td>430.0</td>\n",
              "      <td>0.0</td>\n",
              "      <td>4811.0</td>\n",
              "      <td>0.0158</td>\n",
              "      <td>0.9208</td>\n",
              "      <td>0.0121</td>\n",
              "      <td>0.0019</td>\n",
              "      <td>0.0010</td>\n",
              "      <td>0.0006</td>\n",
              "      <td>0.0098</td>\n",
              "      <td>0.0243</td>\n",
              "      <td>0.0137</td>\n",
              "      <td>0.0892</td>\n",
              "      <td>1</td>\n",
              "      <td>0.7347</td>\n",
              "      <td>0.7554</td>\n",
              "      <td>0.1270</td>\n",
              "      <td>26600</td>\n",
              "      <td>33118.5</td>\n",
              "    </tr>\n",
              "  </tbody>\n",
              "</table>\n",
              "</div>"
            ],
            "text/plain": [
              "                                instnm  ... grad_debt_mdn_supp\n",
              "0             Alabama A & M University  ...              33888\n",
              "1  University of Alabama at Birmingham  ...            21941.5\n",
              "2                   Amridge University  ...              23370\n",
              "3  University of Alabama in Huntsville  ...              24097\n",
              "4             Alabama State University  ...            33118.5\n",
              "\n",
              "[5 rows x 27 columns]"
            ]
          },
          "metadata": {
            "tags": []
          },
          "execution_count": 16
        }
      ]
    },
    {
      "cell_type": "code",
      "metadata": {
        "id": "7GAnGIUEdNQe",
        "colab_type": "code",
        "colab": {}
      },
      "source": [
        "college2 = pd.read_table('https://raw.githubusercontent.com/lalitgarg12/python-exercises/master/college.csv', delimiter=',')"
      ],
      "execution_count": 0,
      "outputs": []
    },
    {
      "cell_type": "code",
      "metadata": {
        "id": "1Rxj6BxthcFx",
        "colab_type": "code",
        "colab": {
          "base_uri": "https://localhost:8080/",
          "height": 34
        },
        "outputId": "3cabbd31-2fa8-451a-abca-ec2bd09d70d9"
      },
      "source": [
        "college.equals(college2)"
      ],
      "execution_count": 18,
      "outputs": [
        {
          "output_type": "execute_result",
          "data": {
            "text/plain": [
              "True"
            ]
          },
          "metadata": {
            "tags": []
          },
          "execution_count": 18
        }
      ]
    },
    {
      "cell_type": "markdown",
      "metadata": {
        "id": "bocdl24RiQ67",
        "colab_type": "text"
      },
      "source": [
        "**Guidance: Only use read_csv to read in delimitted text files**"
      ]
    },
    {
      "cell_type": "markdown",
      "metadata": {
        "id": "z4CmTvJ4j7Kb",
        "colab_type": "text"
      },
      "source": [
        "**isna vs isnull and notna vs notnull**\n",
        "\n",
        "The isna and isnull methods both determine whether each value in the DataFrame is missing or not. The result will always be a DataFrame (or Series) of all boolean values."
      ]
    },
    {
      "cell_type": "code",
      "metadata": {
        "id": "iinMRfASj9Nq",
        "colab_type": "code",
        "colab": {
          "base_uri": "https://localhost:8080/",
          "height": 34
        },
        "outputId": "368325f1-fde6-4185-916f-62c7aeca29db"
      },
      "source": [
        "college_isna = college.isna()\n",
        "college_isnull = college.isnull()\n",
        "college_isna.equals(college_isnull)"
      ],
      "execution_count": 19,
      "outputs": [
        {
          "output_type": "execute_result",
          "data": {
            "text/plain": [
              "True"
            ]
          },
          "metadata": {
            "tags": []
          },
          "execution_count": 19
        }
      ]
    },
    {
      "cell_type": "markdown",
      "metadata": {
        "id": "fs9kL1v4kZpL",
        "colab_type": "text"
      },
      "source": [
        "**Guidance: Use only isna and notna**"
      ]
    },
    {
      "cell_type": "code",
      "metadata": {
        "id": "APqu3yYdka-r",
        "colab_type": "code",
        "colab": {}
      },
      "source": [
        ""
      ],
      "execution_count": 0,
      "outputs": []
    }
  ]
}