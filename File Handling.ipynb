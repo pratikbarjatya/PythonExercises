{
 "cells": [
  {
   "cell_type": "code",
   "execution_count": 2,
   "metadata": {},
   "outputs": [],
   "source": [
    "f = open('output','w')\n",
    "f.write(\"This is first Line\\n\")\n",
    "f.write(\"It has 2 lines\\n\")\n",
    "f.close()"
   ]
  },
  {
   "cell_type": "code",
   "execution_count": 4,
   "metadata": {},
   "outputs": [
    {
     "name": "stdout",
     "output_type": "stream",
     "text": [
      "This is first Line\n",
      "It has 2 lines\n",
      "\n"
     ]
    }
   ],
   "source": [
    "f = open(\"output\",'r')\n",
    "print(f.read())\n",
    "f.close()"
   ]
  },
  {
   "cell_type": "code",
   "execution_count": 8,
   "metadata": {},
   "outputs": [
    {
     "name": "stdout",
     "output_type": "stream",
     "text": [
      "This\n",
      " is \n",
      "first Line\n"
     ]
    }
   ],
   "source": [
    "f = open(\"output\",'r')\n",
    "print(f.read(4))\n",
    "print(f.read(4))\n",
    "print(f.read(10))\n",
    "f.close()"
   ]
  },
  {
   "cell_type": "code",
   "execution_count": 24,
   "metadata": {},
   "outputs": [
    {
     "name": "stdout",
     "output_type": "stream",
     "text": [
      "This\n",
      " is \n",
      "first Line\n"
     ]
    }
   ],
   "source": [
    "f = open(\"output\",'r')\n",
    "print(f.read(4))\n",
    "print(f.read(4))\n",
    "print(f.read(10))\n"
   ]
  },
  {
   "cell_type": "code",
   "execution_count": 13,
   "metadata": {},
   "outputs": [
    {
     "data": {
      "text/plain": [
       "18446744073709551635"
      ]
     },
     "execution_count": 13,
     "metadata": {},
     "output_type": "execute_result"
    }
   ],
   "source": [
    "f.tell()"
   ]
  },
  {
   "cell_type": "code",
   "execution_count": 16,
   "metadata": {},
   "outputs": [
    {
     "data": {
      "text/plain": [
       "0"
      ]
     },
     "execution_count": 16,
     "metadata": {},
     "output_type": "execute_result"
    }
   ],
   "source": [
    "f.seek(0)"
   ]
  },
  {
   "cell_type": "code",
   "execution_count": 18,
   "metadata": {},
   "outputs": [
    {
     "data": {
      "text/plain": [
       "''"
      ]
     },
     "execution_count": 18,
     "metadata": {},
     "output_type": "execute_result"
    }
   ],
   "source": [
    "f.read()"
   ]
  },
  {
   "cell_type": "code",
   "execution_count": 26,
   "metadata": {},
   "outputs": [
    {
     "name": "stdout",
     "output_type": "stream",
     "text": [
      "This is first Line\n",
      "\n",
      "It has 2 lines\n",
      "\n"
     ]
    }
   ],
   "source": [
    "f.seek(0)          # It reads line by line for FOR loop.\n",
    "for i in f:\n",
    "    print(i)"
   ]
  },
  {
   "cell_type": "code",
   "execution_count": 29,
   "metadata": {},
   "outputs": [
    {
     "name": "stdout",
     "output_type": "stream",
     "text": [
      "This is first Line\n",
      "\n"
     ]
    }
   ],
   "source": [
    "f = open(\"output.txt\",'r')\n",
    "print(f.readline())"
   ]
  },
  {
   "cell_type": "code",
   "execution_count": 33,
   "metadata": {},
   "outputs": [
    {
     "data": {
      "text/plain": [
       "''"
      ]
     },
     "execution_count": 33,
     "metadata": {},
     "output_type": "execute_result"
    }
   ],
   "source": [
    "f.readline()"
   ]
  },
  {
   "cell_type": "code",
   "execution_count": 37,
   "metadata": {},
   "outputs": [
    {
     "data": {
      "text/plain": [
       "['This is first Line\\n', 'It has 2 lines\\n']"
      ]
     },
     "execution_count": 37,
     "metadata": {},
     "output_type": "execute_result"
    }
   ],
   "source": [
    "f.seek(0)\n",
    "f.readlines()"
   ]
  },
  {
   "cell_type": "code",
   "execution_count": 39,
   "metadata": {},
   "outputs": [],
   "source": [
    "f.close()"
   ]
  },
  {
   "cell_type": "code",
   "execution_count": 41,
   "metadata": {},
   "outputs": [
    {
     "ename": "FileNotFoundError",
     "evalue": "[WinError 2] The system cannot find the file specified: 'output.txt' -> 'op.txt'",
     "output_type": "error",
     "traceback": [
      "\u001b[1;31m---------------------------------------------------------------------------\u001b[0m",
      "\u001b[1;31mFileNotFoundError\u001b[0m                         Traceback (most recent call last)",
      "\u001b[1;32m<ipython-input-41-88b2e9d69d7d>\u001b[0m in \u001b[0;36m<module>\u001b[1;34m\u001b[0m\n\u001b[0;32m      1\u001b[0m \u001b[1;32mimport\u001b[0m \u001b[0mos\u001b[0m\u001b[1;33m\u001b[0m\u001b[1;33m\u001b[0m\u001b[0m\n\u001b[1;32m----> 2\u001b[1;33m \u001b[0mos\u001b[0m\u001b[1;33m.\u001b[0m\u001b[0mrename\u001b[0m\u001b[1;33m(\u001b[0m\u001b[1;34m\"output.txt\"\u001b[0m\u001b[1;33m,\u001b[0m\u001b[1;34m\"op.txt\"\u001b[0m\u001b[1;33m)\u001b[0m\u001b[1;33m\u001b[0m\u001b[1;33m\u001b[0m\u001b[0m\n\u001b[0m",
      "\u001b[1;31mFileNotFoundError\u001b[0m: [WinError 2] The system cannot find the file specified: 'output.txt' -> 'op.txt'"
     ]
    }
   ],
   "source": [
    "#import os\n",
    "#os.rename(\"output.txt\",\"op.txt\")"
   ]
  },
  {
   "cell_type": "code",
   "execution_count": 46,
   "metadata": {},
   "outputs": [
    {
     "data": {
      "text/plain": [
       "'This is first Line\\n'"
      ]
     },
     "execution_count": 46,
     "metadata": {},
     "output_type": "execute_result"
    }
   ],
   "source": [
    "f = open(\"op.txt\",'r')\n",
    "f.readline()"
   ]
  },
  {
   "cell_type": "code",
   "execution_count": 48,
   "metadata": {},
   "outputs": [],
   "source": [
    "f.close()"
   ]
  },
  {
   "cell_type": "code",
   "execution_count": 51,
   "metadata": {},
   "outputs": [
    {
     "ename": "FileNotFoundError",
     "evalue": "[WinError 2] The system cannot find the file specified: 'op.txt'",
     "output_type": "error",
     "traceback": [
      "\u001b[1;31m---------------------------------------------------------------------------\u001b[0m",
      "\u001b[1;31mFileNotFoundError\u001b[0m                         Traceback (most recent call last)",
      "\u001b[1;32m<ipython-input-51-f9bd47de29e5>\u001b[0m in \u001b[0;36m<module>\u001b[1;34m\u001b[0m\n\u001b[1;32m----> 1\u001b[1;33m \u001b[0mos\u001b[0m\u001b[1;33m.\u001b[0m\u001b[0mremove\u001b[0m\u001b[1;33m(\u001b[0m\u001b[1;34m'op.txt'\u001b[0m\u001b[1;33m)\u001b[0m\u001b[1;33m\u001b[0m\u001b[1;33m\u001b[0m\u001b[0m\n\u001b[0m",
      "\u001b[1;31mFileNotFoundError\u001b[0m: [WinError 2] The system cannot find the file specified: 'op.txt'"
     ]
    }
   ],
   "source": [
    "os.remove('op.txt')"
   ]
  },
  {
   "cell_type": "code",
   "execution_count": 54,
   "metadata": {},
   "outputs": [
    {
     "data": {
      "text/plain": [
       "'C:\\\\Users\\\\HP\\\\Pythoncoding'"
      ]
     },
     "execution_count": 54,
     "metadata": {},
     "output_type": "execute_result"
    }
   ],
   "source": [
    "import os\n",
    "os.getcwd()"
   ]
  },
  {
   "cell_type": "code",
   "execution_count": 56,
   "metadata": {},
   "outputs": [
    {
     "data": {
      "text/plain": [
       "['.ipynb_checkpoints',\n",
       " 'Conditional Statement.ipynb',\n",
       " 'Datatypes and conversion.ipynb',\n",
       " 'Deep Data Dive - Dictionary.ipynb',\n",
       " 'Deep Data Dive - Set.ipynb',\n",
       " 'Deep Data Dive - Strings.ipynb',\n",
       " 'File Handling.ipynb',\n",
       " 'Functions.ipynb',\n",
       " 'Input Output and Formating.ipynb',\n",
       " 'Modules.ipynb',\n",
       " 'mymodule.py',\n",
       " 'new',\n",
       " 'new.txt',\n",
       " 'Operators.ipynb',\n",
       " 'OurFirstProgram.ipynb',\n",
       " 'output',\n",
       " 'PythonBasics_1-1531626959158.ipynb',\n",
       " 'PythonBasics_2-1531629120498.ipynb',\n",
       " 'PythonBasics_3-1531629927122.ipynb',\n",
       " 'PythonBasics_4-1531630157879.ipynb',\n",
       " 'PythonBasics_5-1531630575350.ipynb',\n",
       " 'PythonBasics_6-1531630902841.ipynb',\n",
       " 'PythonBasics_7-1531631164506.ipynb',\n",
       " 'Variables.ipynb',\n",
       " '__pycache__']"
      ]
     },
     "execution_count": 56,
     "metadata": {},
     "output_type": "execute_result"
    }
   ],
   "source": [
    "os.listdir(os.getcwd())"
   ]
  },
  {
   "cell_type": "code",
   "execution_count": 59,
   "metadata": {},
   "outputs": [
    {
     "data": {
      "text/plain": [
       "['.ipynb_checkpoints',\n",
       " 'Conditional Statement.ipynb',\n",
       " 'Datatypes and conversion.ipynb',\n",
       " 'Deep Data Dive - Dictionary.ipynb',\n",
       " 'Deep Data Dive - Set.ipynb',\n",
       " 'Deep Data Dive - Strings.ipynb',\n",
       " 'File Handling.ipynb',\n",
       " 'Functions.ipynb',\n",
       " 'Input Output and Formating.ipynb',\n",
       " 'Modules.ipynb',\n",
       " 'mymodule.py',\n",
       " 'new',\n",
       " 'new.txt',\n",
       " 'Operators.ipynb',\n",
       " 'OurFirstProgram.ipynb',\n",
       " 'output',\n",
       " 'PythonBasics_1-1531626959158.ipynb',\n",
       " 'PythonBasics_2-1531629120498.ipynb',\n",
       " 'PythonBasics_3-1531629927122.ipynb',\n",
       " 'PythonBasics_4-1531630157879.ipynb',\n",
       " 'PythonBasics_5-1531630575350.ipynb',\n",
       " 'PythonBasics_6-1531630902841.ipynb',\n",
       " 'PythonBasics_7-1531631164506.ipynb',\n",
       " 'test folder',\n",
       " 'test1 folder',\n",
       " 'Variables.ipynb',\n",
       " '__pycache__']"
      ]
     },
     "execution_count": 59,
     "metadata": {},
     "output_type": "execute_result"
    }
   ],
   "source": [
    "os.mkdir('test1 folder')\n",
    "os.listdir(os.getcwd())"
   ]
  }
 ],
 "metadata": {
  "kernelspec": {
   "display_name": "Python 3",
   "language": "python",
   "name": "python3"
  },
  "language_info": {
   "codemirror_mode": {
    "name": "ipython",
    "version": 3
   },
   "file_extension": ".py",
   "mimetype": "text/x-python",
   "name": "python",
   "nbconvert_exporter": "python",
   "pygments_lexer": "ipython3",
   "version": "3.7.3"
  }
 },
 "nbformat": 4,
 "nbformat_minor": 2
}
