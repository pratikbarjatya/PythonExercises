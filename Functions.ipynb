{
 "cells": [
  {
   "cell_type": "code",
   "execution_count": 9,
   "metadata": {},
   "outputs": [],
   "source": [
    "def hello_world(var):\n",
    "    \"\"\"\n",
    "    This function prints Hello World\n",
    "    \"\"\"\n",
    "    print(\"Hello \"+str(var))"
   ]
  },
  {
   "cell_type": "code",
   "execution_count": 10,
   "metadata": {},
   "outputs": [
    {
     "name": "stdout",
     "output_type": "stream",
     "text": [
      "Hello world\n"
     ]
    }
   ],
   "source": [
    "hello_world('world')"
   ]
  },
  {
   "cell_type": "code",
   "execution_count": 11,
   "metadata": {},
   "outputs": [
    {
     "name": "stdout",
     "output_type": "stream",
     "text": [
      "\n",
      "    This function prints Hello World\n",
      "    \n"
     ]
    }
   ],
   "source": [
    "print(hello_world.__doc__)"
   ]
  },
  {
   "cell_type": "code",
   "execution_count": 14,
   "metadata": {},
   "outputs": [],
   "source": [
    "def sumOfNumbers(Numbers):\n",
    "    \"\"\"\n",
    "    This function is to sum of all the numbers\n",
    "    \"\"\"\n",
    "    sumVal = 0\n",
    "    for number in Numbers:\n",
    "        sumVal += number\n",
    "    return(sumVal)"
   ]
  },
  {
   "cell_type": "code",
   "execution_count": 16,
   "metadata": {},
   "outputs": [
    {
     "name": "stdout",
     "output_type": "stream",
     "text": [
      "12\n"
     ]
    }
   ],
   "source": [
    "sumnum = sumOfNumbers([2,4,6])\n",
    "print(sumnum)"
   ]
  },
  {
   "cell_type": "code",
   "execution_count": 19,
   "metadata": {},
   "outputs": [
    {
     "name": "stdout",
     "output_type": "stream",
     "text": [
      "\n",
      "    This function is to sum of all the numbers\n",
      "    \n"
     ]
    }
   ],
   "source": [
    "print(sumOfNumbers.__doc__)"
   ]
  },
  {
   "cell_type": "code",
   "execution_count": 22,
   "metadata": {},
   "outputs": [
    {
     "name": "stdout",
     "output_type": "stream",
     "text": [
      "Inside the function block:  I am a local variable\n",
      "Inside the function block:  I am a global variable\n",
      "Outside the block:  I am a global variable\n"
     ]
    },
    {
     "ename": "NameError",
     "evalue": "name 'localvariable' is not defined",
     "output_type": "error",
     "traceback": [
      "\u001b[1;31m---------------------------------------------------------------------------\u001b[0m",
      "\u001b[1;31mNameError\u001b[0m                                 Traceback (most recent call last)",
      "\u001b[1;32m<ipython-input-22-a01986e62058>\u001b[0m in \u001b[0;36m<module>\u001b[1;34m\u001b[0m\n\u001b[0;32m     14\u001b[0m \u001b[0mprint\u001b[0m\u001b[1;33m(\u001b[0m\u001b[1;34m\"Outside the block: \"\u001b[0m\u001b[1;33m,\u001b[0m \u001b[0mglobalvariable\u001b[0m\u001b[1;33m)\u001b[0m\u001b[1;33m\u001b[0m\u001b[1;33m\u001b[0m\u001b[0m\n\u001b[0;32m     15\u001b[0m \u001b[1;33m\u001b[0m\u001b[0m\n\u001b[1;32m---> 16\u001b[1;33m \u001b[0mprint\u001b[0m\u001b[1;33m(\u001b[0m\u001b[1;34m\"Outside the block: \"\u001b[0m\u001b[1;33m,\u001b[0m \u001b[0mlocalvariable\u001b[0m\u001b[1;33m)\u001b[0m\u001b[1;33m\u001b[0m\u001b[1;33m\u001b[0m\u001b[0m\n\u001b[0m",
      "\u001b[1;31mNameError\u001b[0m: name 'localvariable' is not defined"
     ]
    }
   ],
   "source": [
    "globalvariable = 'I am a global variable'\n",
    "\n",
    "def checklifetime():\n",
    "    \"\"\"\n",
    "    This is to check lifetime of global and local variable.\n",
    "    \"\"\"\n",
    "    localvariable = 'I am a local variable'\n",
    "    \n",
    "    print(\"Inside the function block: \", localvariable)\n",
    "    print(\"Inside the function block: \", globalvariable)\n",
    "    \n",
    "checklifetime()\n",
    "\n",
    "print(\"Outside the block: \", globalvariable)\n",
    "\n",
    "print(\"Outside the block: \", localvariable)"
   ]
  },
  {
   "cell_type": "code",
   "execution_count": 26,
   "metadata": {},
   "outputs": [
    {
     "name": "stdout",
     "output_type": "stream",
     "text": [
      "The factorial of number 6 is 720: \n"
     ]
    }
   ],
   "source": [
    "def factorial(num):\n",
    "    \"\"\"\n",
    "    This is to write the factorial of a number.\n",
    "    \"\"\"\n",
    "    fact = 1\n",
    "    while(num>0):\n",
    "        fact *= num\n",
    "        num -= 1\n",
    "    return fact\n",
    "\n",
    "numb = 6\n",
    "print(\"The factorial of number {} is {}: \".format(numb, factorial(numb)))\n"
   ]
  },
  {
   "cell_type": "code",
   "execution_count": 27,
   "metadata": {},
   "outputs": [
    {
     "name": "stdout",
     "output_type": "stream",
     "text": [
      "100\n"
     ]
    }
   ],
   "source": [
    "number = -100\n",
    "\n",
    "print(abs(number))"
   ]
  },
  {
   "cell_type": "code",
   "execution_count": 29,
   "metadata": {},
   "outputs": [
    {
     "name": "stdout",
     "output_type": "stream",
     "text": [
      "True\n"
     ]
    }
   ],
   "source": [
    "mySet = {10,20,30,40}\n",
    "print(all(mySet))"
   ]
  },
  {
   "cell_type": "code",
   "execution_count": 33,
   "metadata": {},
   "outputs": [
    {
     "name": "stdout",
     "output_type": "stream",
     "text": [
      "True\n"
     ]
    }
   ],
   "source": [
    "myTuple = ('s',10,20,30)    # 0 is a part of the list and hence false\n",
    "print(all(myTuple))"
   ]
  },
  {
   "cell_type": "code",
   "execution_count": 35,
   "metadata": {},
   "outputs": [
    {
     "name": "stdout",
     "output_type": "stream",
     "text": [
      "['__add__', '__class__', '__contains__', '__delattr__', '__delitem__', '__dir__', '__doc__', '__eq__', '__format__', '__ge__', '__getattribute__', '__getitem__', '__gt__', '__hash__', '__iadd__', '__imul__', '__init__', '__init_subclass__', '__iter__', '__le__', '__len__', '__lt__', '__mul__', '__ne__', '__new__', '__reduce__', '__reduce_ex__', '__repr__', '__reversed__', '__rmul__', '__setattr__', '__setitem__', '__sizeof__', '__str__', '__subclasshook__', 'append', 'clear', 'copy', 'count', 'extend', 'index', 'insert', 'pop', 'remove', 'reverse', 'sort']\n"
     ]
    }
   ],
   "source": [
    "numbers = [1,2,3]\n",
    "print(dir(numbers))"
   ]
  },
  {
   "cell_type": "code",
   "execution_count": 37,
   "metadata": {},
   "outputs": [
    {
     "name": "stdout",
     "output_type": "stream",
     "text": [
      "(4, 1)\n"
     ]
    }
   ],
   "source": [
    "print(divmod(9,2))"
   ]
  },
  {
   "cell_type": "code",
   "execution_count": 40,
   "metadata": {},
   "outputs": [
    {
     "name": "stdout",
     "output_type": "stream",
     "text": [
      "Index 10 has value 1\n",
      "Index 11 has value 2\n",
      "Index 12 has value 3\n",
      "Index 13 has value 4\n"
     ]
    }
   ],
   "source": [
    "numbers = [1,2,3,4]\n",
    "for index, num in enumerate(numbers,10):\n",
    "    print(\"Index {0} has value {1}\".format(index,num))"
   ]
  },
  {
   "cell_type": "code",
   "execution_count": 42,
   "metadata": {},
   "outputs": [],
   "source": [
    "def even_number(number):\n",
    "    \"\"\"\n",
    "    This function is to find if the number is even or not.\n",
    "    \"\"\"\n",
    "    \n",
    "    if number % 2 == 0:\n",
    "        return number\n"
   ]
  },
  {
   "cell_type": "code",
   "execution_count": 47,
   "metadata": {},
   "outputs": [
    {
     "name": "stdout",
     "output_type": "stream",
     "text": [
      "[2, 4, 6, 8, 10, 12, 14, 16, 18, 20, 22, 24, 26, 28, 30, 32, 34, 36, 38, 40, 42, 44, 46, 48]\n"
     ]
    }
   ],
   "source": [
    "number = range(50)\n",
    "evenNum = list(filter(even_number,number))\n",
    "print(evenNum)"
   ]
  },
  {
   "cell_type": "code",
   "execution_count": 49,
   "metadata": {},
   "outputs": [
    {
     "name": "stdout",
     "output_type": "stream",
     "text": [
      "True\n"
     ]
    }
   ],
   "source": [
    "mySet = {'Lalit',2,40,'Ram'}\n",
    "print(isinstance(mySet,set))"
   ]
  },
  {
   "cell_type": "code",
   "execution_count": 51,
   "metadata": {},
   "outputs": [
    {
     "name": "stdout",
     "output_type": "stream",
     "text": [
      "[5.0, 5.5, 6.0, 6.5, 7.0]\n"
     ]
    }
   ],
   "source": [
    "numbers = [10,11,12,13,14]\n",
    "\n",
    "half = []\n",
    "\n",
    "for num in numbers:\n",
    "    half.append(num/2)\n",
    "print(half)"
   ]
  },
  {
   "cell_type": "code",
   "execution_count": 54,
   "metadata": {},
   "outputs": [
    {
     "name": "stdout",
     "output_type": "stream",
     "text": [
      "[5.0, 5.5, 6.0, 6.5, 7.0]\n"
     ]
    }
   ],
   "source": [
    "numbers = [10,11,12,13,14]\n",
    "\n",
    "def halfOfNumber(num):\n",
    "    return num/2\n",
    "\n",
    "halves = list(map(halfOfNumber,numbers))\n",
    "print(halves)"
   ]
  },
  {
   "cell_type": "code",
   "execution_count": 58,
   "metadata": {},
   "outputs": [
    {
     "name": "stdout",
     "output_type": "stream",
     "text": [
      "60\n"
     ]
    }
   ],
   "source": [
    "from functools import reduce\n",
    "\n",
    "def additionOfNumbers(x,y):\n",
    "    return x+y\n",
    "\n",
    "sumOfArray = reduce(additionOfNumbers, numbers)\n",
    "\n",
    "print(sumOfArray)"
   ]
  },
  {
   "cell_type": "code",
   "execution_count": 60,
   "metadata": {},
   "outputs": [
    {
     "name": "stdout",
     "output_type": "stream",
     "text": [
      "Hello Lalit and Welcome to the world of Python\n"
     ]
    }
   ],
   "source": [
    "def hello(name,msg):\n",
    "    \"\"\"\n",
    "    This function is to print the message.\n",
    "    \"\"\"\n",
    "    print(\"Hello {0} and {1}\".format(name,msg))\n",
    "\n",
    "hello(\"Lalit\",\"Welcome to the world of Python\")"
   ]
  },
  {
   "cell_type": "code",
   "execution_count": 62,
   "metadata": {},
   "outputs": [
    {
     "ename": "TypeError",
     "evalue": "hello() missing 1 required positional argument: 'msg'",
     "output_type": "error",
     "traceback": [
      "\u001b[1;31m---------------------------------------------------------------------------\u001b[0m",
      "\u001b[1;31mTypeError\u001b[0m                                 Traceback (most recent call last)",
      "\u001b[1;32m<ipython-input-62-d8bbdfa216f9>\u001b[0m in \u001b[0;36m<module>\u001b[1;34m\u001b[0m\n\u001b[1;32m----> 1\u001b[1;33m \u001b[0mhello\u001b[0m\u001b[1;33m(\u001b[0m\u001b[1;34m\"Lalit\"\u001b[0m\u001b[1;33m)\u001b[0m\u001b[1;33m\u001b[0m\u001b[1;33m\u001b[0m\u001b[0m\n\u001b[0m",
      "\u001b[1;31mTypeError\u001b[0m: hello() missing 1 required positional argument: 'msg'"
     ]
    }
   ],
   "source": [
    "hello(\"Lalit\")"
   ]
  },
  {
   "cell_type": "code",
   "execution_count": 65,
   "metadata": {},
   "outputs": [
    {
     "name": "stdout",
     "output_type": "stream",
     "text": [
      "Hello, Lalit, Welcome to the world of data science\n"
     ]
    }
   ],
   "source": [
    "def hello(name, msg = \"Welcome to the world of Python\"):\n",
    "    \"\"\"\n",
    "    This function is to return the default value of argumnet\n",
    "    \"\"\"\n",
    "    print(\"Hello, {0}, {1}\".format(name,msg))\n",
    "\n",
    "hello(\"Lalit\",\"Welcome to the world of data science\")"
   ]
  },
  {
   "cell_type": "code",
   "execution_count": 67,
   "metadata": {},
   "outputs": [
    {
     "name": "stdout",
     "output_type": "stream",
     "text": [
      "Hello, Lalit, Welcome to the world of Python\n"
     ]
    }
   ],
   "source": [
    "hello(\"Lalit\")"
   ]
  },
  {
   "cell_type": "code",
   "execution_count": 85,
   "metadata": {},
   "outputs": [
    {
     "ename": "SyntaxError",
     "evalue": "non-default argument follows default argument (<ipython-input-85-9a7a11fa6205>, line 1)",
     "output_type": "error",
     "traceback": [
      "\u001b[1;36m  File \u001b[1;32m\"<ipython-input-85-9a7a11fa6205>\"\u001b[1;36m, line \u001b[1;32m1\u001b[0m\n\u001b[1;33m    def hello(msg = \"Welcome to the world of Python\", name):\u001b[0m\n\u001b[1;37m             ^\u001b[0m\n\u001b[1;31mSyntaxError\u001b[0m\u001b[1;31m:\u001b[0m non-default argument follows default argument\n"
     ]
    }
   ],
   "source": [
    "def hello(msg = \"Welcome to the world of Python\", name):\n",
    "    \"\"\"\n",
    "    This function is to return the default value of argumnet\n",
    "    \"\"\"\n",
    "    print(\"Hello, {0}, {1}\".format(name,msg))\n",
    "\n",
    "#hello(\"Lalit\",\"Welcome to the world of data science\")"
   ]
  },
  {
   "cell_type": "code",
   "execution_count": 90,
   "metadata": {},
   "outputs": [
    {
     "ename": "SyntaxError",
     "evalue": "invalid syntax (<ipython-input-90-45e82b1e4477>, line 8)",
     "output_type": "error",
     "traceback": [
      "\u001b[1;36m  File \u001b[1;32m\"<ipython-input-90-45e82b1e4477>\"\u001b[1;36m, line \u001b[1;32m8\u001b[0m\n\u001b[1;33m    i = 7\u001b[0m\n\u001b[1;37m    ^\u001b[0m\n\u001b[1;31mSyntaxError\u001b[0m\u001b[1;31m:\u001b[0m invalid syntax\n"
     ]
    }
   ],
   "source": [
    "# How to write the recursive function\n",
    "def factorial(num):\n",
    "    \"\"\"\n",
    "    This function is to write the recursive function to calculate the factorial of a number \n",
    "    where the function will call itself again till it satisfies the condition.\n",
    "    \"\"\"\n",
    "    return 1 if num == 1 else ((num * factorial(num - 1))\n",
    "i = 7\n",
    "print(\"The factorial of {0} is {1}\".format(i,factorial(i)))"
   ]
  },
  {
   "cell_type": "code",
   "execution_count": 92,
   "metadata": {},
   "outputs": [
    {
     "name": "stdout",
     "output_type": "stream",
     "text": [
      "100\n"
     ]
    }
   ],
   "source": [
    "def square(x):\n",
    "    return x ** 2\n",
    "print(square(10))"
   ]
  },
  {
   "cell_type": "code",
   "execution_count": 94,
   "metadata": {},
   "outputs": [
    {
     "name": "stdout",
     "output_type": "stream",
     "text": [
      "100\n"
     ]
    }
   ],
   "source": [
    "square = lambda x : x ** 2\n",
    "print(square(10))"
   ]
  },
  {
   "cell_type": "code",
   "execution_count": 97,
   "metadata": {},
   "outputs": [
    {
     "name": "stdout",
     "output_type": "stream",
     "text": [
      "[1, 3, 5]\n"
     ]
    }
   ],
   "source": [
    "# To find the odd number using filter function and using lambda function\n",
    "myList = [1,2,3,4,5]\n",
    "oddNumber = list(filter(lambda x: (x%2 != 0),myList))\n",
    "print(oddNumber)"
   ]
  },
  {
   "cell_type": "code",
   "execution_count": 99,
   "metadata": {},
   "outputs": [
    {
     "name": "stdout",
     "output_type": "stream",
     "text": [
      "15\n"
     ]
    }
   ],
   "source": [
    "from functools import reduce\n",
    "myList = [1,2,3,4,5]\n",
    "sumOfNumbers = reduce(lambda x,y: x + y, myList)\n",
    "print(sumOfNumbers)"
   ]
  }
 ],
 "metadata": {
  "kernelspec": {
   "display_name": "Python 3",
   "language": "python",
   "name": "python3"
  },
  "language_info": {
   "codemirror_mode": {
    "name": "ipython",
    "version": 3
   },
   "file_extension": ".py",
   "mimetype": "text/x-python",
   "name": "python",
   "nbconvert_exporter": "python",
   "pygments_lexer": "ipython3",
   "version": "3.7.3"
  }
 },
 "nbformat": 4,
 "nbformat_minor": 2
}
