{
 "cells": [
  {
   "cell_type": "code",
   "execution_count": 8,
   "metadata": {},
   "outputs": [
    {
     "name": "stdout",
     "output_type": "stream",
     "text": [
      "7\n",
      "3\n",
      "10\n",
      "2.5\n",
      "1\n",
      "2\n",
      "25\n"
     ]
    }
   ],
   "source": [
    "variable1,variable2 = 5,2\n",
    "print(variable1 + variable2)\n",
    "print(variable1 - variable2)\n",
    "print(variable1 * variable2)\n",
    "print(variable1 / variable2)\n",
    "print(variable1 % variable2)\n",
    "print(variable1 // variable2)\n",
    "print(variable1 ** variable2)"
   ]
  },
  {
   "cell_type": "code",
   "execution_count": 14,
   "metadata": {},
   "outputs": [
    {
     "name": "stdout",
     "output_type": "stream",
     "text": [
      "False\n",
      "True\n",
      "False\n",
      "True\n",
      "False\n",
      "True\n"
     ]
    }
   ],
   "source": [
    "variable1, variable2 = 5,2\n",
    "print(variable1 < variable2)\n",
    "print(variable1 > variable2)\n",
    "print(variable1 == variable2)\n",
    "print(variable1 != variable2)\n",
    "print(variable1 <= variable2)\n",
    "print(variable1 >= variable2)"
   ]
  },
  {
   "cell_type": "code",
   "execution_count": 17,
   "metadata": {},
   "outputs": [
    {
     "name": "stdout",
     "output_type": "stream",
     "text": [
      "False\n",
      "True\n",
      "True\n"
     ]
    }
   ],
   "source": [
    "variable1, variable2 = True,False\n",
    "print(variable1 and variable2)\n",
    "print(variable1 or variable2)\n",
    "print(not variable2)"
   ]
  },
  {
   "cell_type": "code",
   "execution_count": 24,
   "metadata": {},
   "outputs": [
    {
     "name": "stdout",
     "output_type": "stream",
     "text": [
      "3\n",
      "7\n",
      "-8\n",
      "4\n",
      "0\n",
      "12\n"
     ]
    }
   ],
   "source": [
    "variable1,variable2 = 3,7\n",
    "print(variable1 & variable2)\n",
    "print(variable1 | variable2)\n",
    "print(~variable2)   # Bitwise OR ->        0000 0011 | 0000 0111 -> 0000 0111 -> 7\n",
    "print(variable1 ^ variable2)\n",
    "print(variable1>>2)\n",
    "print(variable1<<2)"
   ]
  },
  {
   "cell_type": "code",
   "execution_count": 34,
   "metadata": {},
   "outputs": [
    {
     "name": "stdout",
     "output_type": "stream",
     "text": [
      "44\n",
      "37\n",
      "148\n",
      "37.0\n",
      "17.0\n",
      "4.0\n",
      "256.0\n"
     ]
    }
   ],
   "source": [
    "age = 40\n",
    "age += 4\n",
    "print(age)\n",
    "age -= 7\n",
    "print(age)\n",
    "age *= 4\n",
    "print(age)\n",
    "age /= 4\n",
    "print(age)\n",
    "age %= 20\n",
    "print(age)\n",
    "age //= 4\n",
    "print(age)\n",
    "age **= 4\n",
    "print(age)"
   ]
  },
  {
   "cell_type": "code",
   "execution_count": 39,
   "metadata": {},
   "outputs": [
    {
     "name": "stdout",
     "output_type": "stream",
     "text": [
      "True\n",
      "140734320776608\n",
      "140734320776608\n"
     ]
    }
   ],
   "source": [
    "variable1 = 20\n",
    "variable2 = 20\n",
    "print(variable1 is variable2)\n",
    "print(id(variable1))\n",
    "print(id(variable2))"
   ]
  },
  {
   "cell_type": "code",
   "execution_count": 41,
   "metadata": {},
   "outputs": [
    {
     "name": "stdout",
     "output_type": "stream",
     "text": [
      "False\n",
      "1523213370824\n",
      "1523214161928\n"
     ]
    }
   ],
   "source": [
    "myList1 = [1,2,3]\n",
    "myList2 = [1,2,3]\n",
    "print(myList1 is myList2)\n",
    "print(id(myList1))\n",
    "print(id(myList2))"
   ]
  },
  {
   "cell_type": "code",
   "execution_count": 43,
   "metadata": {},
   "outputs": [
    {
     "name": "stdout",
     "output_type": "stream",
     "text": [
      "True\n",
      "True\n"
     ]
    }
   ],
   "source": [
    "myList3 = ['a', 22, 'b', 100]\n",
    "print(22 in myList3)\n",
    "print('b' in myList3)"
   ]
  },
  {
   "cell_type": "code",
   "execution_count": 46,
   "metadata": {},
   "outputs": [
    {
     "name": "stdout",
     "output_type": "stream",
     "text": [
      "True\n",
      "False\n",
      "True\n"
     ]
    }
   ],
   "source": [
    "myDictionary = {125 : \"Apple\", 200 : \"Banana\"}\n",
    "print(200 in myDictionary)\n",
    "print(\"Banana\" in myDictionary)\n",
    "print(125 in myDictionary)"
   ]
  }
 ],
 "metadata": {
  "kernelspec": {
   "display_name": "Python 3",
   "language": "python",
   "name": "python3"
  },
  "language_info": {
   "codemirror_mode": {
    "name": "ipython",
    "version": 3
   },
   "file_extension": ".py",
   "mimetype": "text/x-python",
   "name": "python",
   "nbconvert_exporter": "python",
   "pygments_lexer": "ipython3",
   "version": "3.7.3"
  }
 },
 "nbformat": 4,
 "nbformat_minor": 2
}
