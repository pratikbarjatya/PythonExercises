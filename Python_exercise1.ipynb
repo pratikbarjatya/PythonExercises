{
  "nbformat": 4,
  "nbformat_minor": 0,
  "metadata": {
    "colab": {
      "name": "Python exercise1.ipynb",
      "provenance": [],
      "collapsed_sections": []
    },
    "kernelspec": {
      "name": "python3",
      "display_name": "Python 3"
    }
  },
  "cells": [
    {
      "cell_type": "markdown",
      "metadata": {
        "id": "C84BTkeSobdT",
        "colab_type": "text"
      },
      "source": [
        "1. Write a Python program to print the following string in a specific format (see the output). Go to the editor\n",
        "Sample String : \"Twinkle, twinkle, little star, How I wonder what you are! Up above the world so high, Like a diamond in the sky. Twinkle, twinkle, little star, How I wonder what you are\" Output :\n",
        "\n",
        "Twinkle, twinkle, little star,\n",
        "\t      How I wonder what you are! \n",
        "\t\t            Up above the world so high,   \t\t\n",
        "\t\t            Like a diamond in the sky. \n",
        "Twinkle, twinkle, little star, \n",
        "\t      How I wonder what you are\n",
        "        "
      ]
    },
    {
      "cell_type": "code",
      "metadata": {
        "id": "F48k2ke_3rBA",
        "colab_type": "code",
        "outputId": "2994c46d-30f4-4180-c8f2-6bcfe488fd9c",
        "colab": {
          "base_uri": "https://localhost:8080/",
          "height": 118
        }
      },
      "source": [
        "print(\"Twinkle, twinkle, little star, \\n\\tHow I wonder what you are! \\n\\t\\tUp above the world so high, \\n\\t\\tLike a diamond in the sky. \\nTwinkle, twinkle, little star, \\n\\tHow I wonder what you are!\")\n"
      ],
      "execution_count": 0,
      "outputs": [
        {
          "output_type": "stream",
          "text": [
            "Twinkle, twinkle, little star, \n",
            "\tHow I wonder what you are! \n",
            "\t\tUp above the world so high, \n",
            "\t\tLike a diamond in the sky. \n",
            "Twinkle, twinkle, little star, \n",
            "\tHow I wonder what you are!\n"
          ],
          "name": "stdout"
        }
      ]
    },
    {
      "cell_type": "markdown",
      "metadata": {
        "id": "Ft6H1ibEpn8C",
        "colab_type": "text"
      },
      "source": [
        "2. Write a Python program to get the Python version you are using."
      ]
    },
    {
      "cell_type": "code",
      "metadata": {
        "id": "tVL12qEcqC66",
        "colab_type": "code",
        "outputId": "284e93ad-2c0f-4ddb-e831-ab7e41f55100",
        "colab": {
          "base_uri": "https://localhost:8080/",
          "height": 50
        }
      },
      "source": [
        "import sys\n",
        "print(sys.version)"
      ],
      "execution_count": 0,
      "outputs": [
        {
          "output_type": "stream",
          "text": [
            "3.6.8 (default, Oct  7 2019, 12:59:55) \n",
            "[GCC 8.3.0]\n"
          ],
          "name": "stdout"
        }
      ]
    },
    {
      "cell_type": "markdown",
      "metadata": {
        "id": "oP-zD5dcr5cW",
        "colab_type": "text"
      },
      "source": [
        "3. Write a Python program to display the current date and time.\n",
        "Sample Output :\n",
        "Current date and time :\n",
        "2014-07-05 14:34:14\n"
      ]
    },
    {
      "cell_type": "code",
      "metadata": {
        "id": "f8fdiLGOr_By",
        "colab_type": "code",
        "outputId": "b7606866-8fa8-4095-c816-acec52d88bae",
        "colab": {
          "base_uri": "https://localhost:8080/",
          "height": 50
        }
      },
      "source": [
        "import datetime\n",
        "now = datetime.datetime.now()\n",
        "print(\"Current date and time: \")\n",
        "print (now.strftime(\"%Y-%m-%d %H:%M:%S\"))"
      ],
      "execution_count": 0,
      "outputs": [
        {
          "output_type": "stream",
          "text": [
            "Current date and time: \n",
            "2019-11-27 16:28:40\n"
          ],
          "name": "stdout"
        }
      ]
    },
    {
      "cell_type": "markdown",
      "metadata": {
        "id": "o4FX_2GHsaXT",
        "colab_type": "text"
      },
      "source": [
        "4. Write a Python program which accepts the radius of a circle from the user and compute the area."
      ]
    },
    {
      "cell_type": "code",
      "metadata": {
        "id": "Vkx_p7FZAGiS",
        "colab_type": "code",
        "colab": {
          "base_uri": "https://localhost:8080/",
          "height": 50
        },
        "outputId": "93048a88-68c1-4fcc-c461-f2e422599eee"
      },
      "source": [
        "from math import pi\n",
        "r = float(input (\"Input the radius of the circle : \"))\n",
        "print (\"The area of the circle with radius \" + str(r) + \" is: \" + str(pi * r**2))"
      ],
      "execution_count": 1,
      "outputs": [
        {
          "output_type": "stream",
          "text": [
            "Input the radius of the circle : 1.1\n",
            "The area of the circle with radius 1.1 is: 3.8013271108436504\n"
          ],
          "name": "stdout"
        }
      ]
    },
    {
      "cell_type": "markdown",
      "metadata": {
        "id": "MtCQFPq5ANEh",
        "colab_type": "text"
      },
      "source": [
        ""
      ]
    }
  ]
}