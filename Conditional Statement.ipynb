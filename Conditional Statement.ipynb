{
 "cells": [
  {
   "cell_type": "code",
   "execution_count": 1,
   "metadata": {},
   "outputs": [
    {
     "name": "stdout",
     "output_type": "stream",
     "text": [
      "Outside if block\n"
     ]
    }
   ],
   "source": [
    "number = 20\n",
    "if number<15:\n",
    "    print('Number is less than 15')\n",
    "print('Outside if block')"
   ]
  },
  {
   "cell_type": "code",
   "execution_count": 6,
   "metadata": {},
   "outputs": [
    {
     "name": "stdout",
     "output_type": "stream",
     "text": [
      "inside if\n",
      "outside if\n",
      "False\n"
     ]
    }
   ],
   "source": [
    "if -1:\n",
    "    print(\"inside if\")\n",
    "print(\"outside if\")\n",
    "\n",
    "val = None\n",
    "print(bool(val))"
   ]
  },
  {
   "cell_type": "code",
   "execution_count": 7,
   "metadata": {},
   "outputs": [
    {
     "name": "stdout",
     "output_type": "stream",
     "text": [
      "Child\n"
     ]
    }
   ],
   "source": [
    "age = 17\n",
    "if age > 18:\n",
    "    print(\"Adult\")\n",
    "else:\n",
    "    print(\"Child\")"
   ]
  },
  {
   "cell_type": "code",
   "execution_count": 10,
   "metadata": {},
   "outputs": [
    {
     "name": "stdout",
     "output_type": "stream",
     "text": [
      "Adult\n"
     ]
    }
   ],
   "source": [
    "age = 20\n",
    "if age > 19:\n",
    "    print('Adult')\n",
    "elif age > 12:\n",
    "    print('Teen')\n",
    "else:\n",
    "    print('Child')"
   ]
  },
  {
   "cell_type": "code",
   "execution_count": 21,
   "metadata": {},
   "outputs": [
    {
     "name": "stdout",
     "output_type": "stream",
     "text": [
      "Child\n",
      "This will always get executed\n"
     ]
    }
   ],
   "source": [
    "age = 11\n",
    "if age >= 13:\n",
    "    if age <= 19:\n",
    "        print('Teen')\n",
    "    else:\n",
    "        print('Adult')\n",
    "else:\n",
    "    print('Child')\n",
    "print('This will always get executed')"
   ]
  },
  {
   "cell_type": "code",
   "execution_count": 25,
   "metadata": {},
   "outputs": [
    {
     "name": "stdout",
     "output_type": "stream",
     "text": [
      "The type of person is: Adult\n"
     ]
    }
   ],
   "source": [
    "age = 20\n",
    "person_type = 'not sure'\n",
    "if (age >= 13) and (age <= 19):\n",
    "    person_type = 'Teen'\n",
    "elif (age >= 0) and (age <= 13):\n",
    "    person_type = 'Child'\n",
    "else:\n",
    "    person_type = 'Adult'\n",
    "print('The type of person is: {}'.format(person_type))"
   ]
  },
  {
   "cell_type": "code",
   "execution_count": 28,
   "metadata": {},
   "outputs": [
    {
     "name": "stdout",
     "output_type": "stream",
     "text": [
      "The sum of my List is: 15\n"
     ]
    }
   ],
   "source": [
    "myList = [1,2,3,4,5]\n",
    "sum = 0\n",
    "index = 0\n",
    "while index < len(myList):\n",
    "    sum += myList[index]\n",
    "    index += 1\n",
    "print('The sum of my List is: {}'.format(sum))"
   ]
  },
  {
   "cell_type": "code",
   "execution_count": 32,
   "metadata": {},
   "outputs": [
    {
     "name": "stdout",
     "output_type": "stream",
     "text": [
      "1\n",
      "Eitherway printed\n"
     ]
    }
   ],
   "source": [
    "myList = [1, 2, 3, 4, 5]\n",
    "index = 0\n",
    "while index < len(myList):\n",
    "    print(myList[index])\n",
    "    break\n",
    "    index += 1\n",
    "else:\n",
    "    print('Completed iterating the list')\n",
    "print('Eitherway printed')"
   ]
  },
  {
   "cell_type": "code",
   "execution_count": 33,
   "metadata": {},
   "outputs": [
    {
     "name": "stdout",
     "output_type": "stream",
     "text": [
      "Enter a positive non-zero number: -9\n",
      "Invalid number please re-enter\n",
      "Enter a positive non-zero number: 6\n",
      "The factorial of the number is:  720\n"
     ]
    }
   ],
   "source": [
    "userInput = input(\"Enter a positive non-zero number: \")\n",
    "number = int(userInput)\n",
    "\n",
    "if number <= 0:\n",
    "    print('Invalid number please re-enter')\n",
    "    userInput = input(\"Enter a positive non-zero number: \")\n",
    "    number = int(userInput)\n",
    "else:\n",
    "    print('Thank you, let me share the result with you')\n",
    "\n",
    "fact = 1\n",
    "if number > 0:\n",
    "    while number > 0:\n",
    "        fact *= number\n",
    "        number -= 1\n",
    "    print('The factorial of the number is: ', fact)"
   ]
  },
  {
   "cell_type": "code",
   "execution_count": 64,
   "metadata": {},
   "outputs": [
    {
     "name": "stdout",
     "output_type": "stream",
     "text": [
      "The sum of my List is:  15\n"
     ]
    }
   ],
   "source": [
    "myList = [1,2,3,4,5]\n",
    "sum = 0\n",
    "for element in myList:\n",
    "    sum += element\n",
    "print(\"The sum of my List is: \", sum)"
   ]
  },
  {
   "cell_type": "code",
   "execution_count": 65,
   "metadata": {},
   "outputs": [
    {
     "name": "stdout",
     "output_type": "stream",
     "text": [
      "0\n",
      "1\n",
      "2\n",
      "3\n",
      "4\n"
     ]
    }
   ],
   "source": [
    "for element in range(5):\n",
    "    print(element)"
   ]
  },
  {
   "cell_type": "code",
   "execution_count": 67,
   "metadata": {},
   "outputs": [
    {
     "name": "stdout",
     "output_type": "stream",
     "text": [
      "10\n",
      "9\n",
      "8\n",
      "7\n",
      "6\n",
      "5\n",
      "4\n",
      "3\n",
      "2\n",
      "1\n"
     ]
    }
   ],
   "source": [
    "for element in range(10,0,-1):\n",
    "    print(element)"
   ]
  },
  {
   "cell_type": "code",
   "execution_count": 68,
   "metadata": {},
   "outputs": [
    {
     "name": "stdout",
     "output_type": "stream",
     "text": [
      "1\n",
      "2\n",
      "3\n",
      "Lalit\n"
     ]
    }
   ],
   "source": [
    "myList = [1,2,3,'Lalit']\n",
    "for index in range(len(myList)):\n",
    "    print(myList[index])"
   ]
  },
  {
   "cell_type": "code",
   "execution_count": 69,
   "metadata": {},
   "outputs": [
    {
     "name": "stdout",
     "output_type": "stream",
     "text": [
      "1\n",
      "2\n",
      "3\n",
      "4\n",
      "Lalit\n"
     ]
    }
   ],
   "source": [
    "myList = [1,2,3,4,'Lalit']\n",
    "for i in myList:\n",
    "    print(i)"
   ]
  },
  {
   "cell_type": "code",
   "execution_count": 73,
   "metadata": {},
   "outputs": [
    {
     "name": "stdout",
     "output_type": "stream",
     "text": [
      "Enter a number: 100\n",
      "[1, 2, 4, 5, 10, 20, 25, 50]\n"
     ]
    }
   ],
   "source": [
    "userInput = input(\"Enter a number: \")       # Asking for user input whose divisors are required.\n",
    "number = int(userInput)                   # Converting the number into integer using int function\n",
    "listofdivisor = [1]                       # Initializing the list of arrays from 1 so that 1 is the divisor for each number\n",
    "for divisor in range(2,int(number/2)+1):  # starting from 2, checking for the middle number in range function\n",
    "    if (number % divisor == 0):           # if condition is checking whether the number divided by divisor, remainder is zero\n",
    "        listofdivisor.append(divisor)     # If condition is true, getting the list of divisor array into append else print\n",
    "else:                                     # Keep the else statement out of for loop\n",
    "    print(listofdivisor)                  # if all conditions are met, print the list of all divisiors.\n"
   ]
  },
  {
   "cell_type": "code",
   "execution_count": 80,
   "metadata": {},
   "outputs": [
    {
     "name": "stdout",
     "output_type": "stream",
     "text": [
      "Lalit\n",
      "Kamal\n",
      "The overall loop is also completed with for-else\n"
     ]
    }
   ],
   "source": [
    "names = ['Lalit', 'Kamal', 'Anirudh']\n",
    "for name in names:\n",
    "    if name == 'Anirudh':\n",
    "        break\n",
    "    print(name)\n",
    "else:\n",
    "    print('For loop completed')\n",
    "print('The overall loop is also completed with for-else')"
   ]
  },
  {
   "cell_type": "code",
   "execution_count": 82,
   "metadata": {},
   "outputs": [
    {
     "name": "stdout",
     "output_type": "stream",
     "text": [
      "Lalit\n",
      "Anirudh\n",
      "For loop completed\n",
      "The overall loop is also completed with for-else\n"
     ]
    }
   ],
   "source": [
    "names = ['Lalit', 'Kamal', 'Anirudh']\n",
    "for name in names:\n",
    "    if name == 'Kamal':\n",
    "        continue\n",
    "    print(name)\n",
    "else:\n",
    "    print('For loop completed')\n",
    "print('The overall loop is also completed with for-else')"
   ]
  },
  {
   "cell_type": "code",
   "execution_count": null,
   "metadata": {},
   "outputs": [],
   "source": [
    "inputNumber = input(\"Please enter a positive number: \")\n",
    "number = int(inputNumber)\n",
    "listOfDivisors = [1]\n",
    "for divisor in range(2,int(number/2)+1):\n",
    "    if number%divisor == 0:\n",
    "        if divisor in [2,3]:\n",
    "            continue\n",
    "        elif len(listOfDivisors) == 3:\n",
    "            break\n",
    "        listOfDivisors.append(divisor)\n",
    "print(listOfDivisors)"
   ]
  }
 ],
 "metadata": {
  "kernelspec": {
   "display_name": "Python 3",
   "language": "python",
   "name": "python3"
  },
  "language_info": {
   "codemirror_mode": {
    "name": "ipython",
    "version": 3
   },
   "file_extension": ".py",
   "mimetype": "text/x-python",
   "name": "python",
   "nbconvert_exporter": "python",
   "pygments_lexer": "ipython3",
   "version": "3.7.3"
  }
 },
 "nbformat": 4,
 "nbformat_minor": 2
}
