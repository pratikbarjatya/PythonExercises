{
 "cells": [
  {
   "cell_type": "markdown",
   "metadata": {},
   "source": [
    "## Calculate pay using function\n",
    "\n",
    "#### This exercise take two input variables hours and rate and function is defined to compute the pay for hours upto 40 hrs and more than 40 hrs using if statement"
   ]
  },
  {
   "cell_type": "code",
   "execution_count": 1,
   "metadata": {},
   "outputs": [
    {
     "name": "stdout",
     "output_type": "stream",
     "text": [
      "Enter Hrs: 45\n",
      "Enter rate per hour: 10.5\n",
      "498.75\n"
     ]
    }
   ],
   "source": [
    "def computepay(h,r):\n",
    "    if h > 40:\n",
    "        pay = (40 * r) + (h - 40)*r*1.5\n",
    "    else:\n",
    "        pay = h * r\n",
    "    return pay\n",
    "hrs = input(\"Enter Hrs: \")\n",
    "h = float(hrs)\n",
    "rph = input('Enter rate per hour: ')\n",
    "r = float(rph)\n",
    "p = computepay(h,r)\n",
    "print(p)\n"
   ]
  },
  {
   "cell_type": "markdown",
   "metadata": {},
   "source": [
    "## Find Largest and Smallest Number\n",
    "\n",
    "#### 5.2 Write a program that repeatedly prompts a user for integer numbers until the user enters 'done'. Once 'done' is entered, print out the largest and smallest of the numbers. If the user enters anything other than a valid number catch it with a try/except and put out an appropriate message and ignore the number. Enter 7, 2, bob, 10, and 4 and match the output below."
   ]
  },
  {
   "cell_type": "code",
   "execution_count": 2,
   "metadata": {},
   "outputs": [
    {
     "name": "stdout",
     "output_type": "stream",
     "text": [
      "Enter a number: 7\n",
      "Enter a number: 10\n",
      "Enter a number: bob\n",
      "Invalid input\n",
      "Enter a number: 4\n",
      "Enter a number: 2\n",
      "Enter a number: done\n",
      "Maximum is 10\n",
      "Minimum is 2\n"
     ]
    }
   ],
   "source": [
    "# Write a program to find largest and smallest number\n",
    "largest = -1\n",
    "smallest = None\n",
    "while True:\n",
    "    num = input(\"Enter a number: \")\n",
    "    if num == \"done\":\n",
    "        break\n",
    "    try:\n",
    "        fnum = int(num)\n",
    "    except:\n",
    "        print(\"Invalid input\")\n",
    "        continue\n",
    "    if fnum > largest:\n",
    "        largest = fnum\n",
    "    if smallest is None:\n",
    "        smallest = fnum\n",
    "    elif fnum < smallest:\n",
    "        smallest = fnum\n",
    "print(\"Maximum is\", largest)\n",
    "print(\"Minimum is\", smallest)\n"
   ]
  }
 ],
 "metadata": {
  "kernelspec": {
   "display_name": "Python 3",
   "language": "python",
   "name": "python3"
  },
  "language_info": {
   "codemirror_mode": {
    "name": "ipython",
    "version": 3
   },
   "file_extension": ".py",
   "mimetype": "text/x-python",
   "name": "python",
   "nbconvert_exporter": "python",
   "pygments_lexer": "ipython3",
   "version": "3.7.3"
  }
 },
 "nbformat": 4,
 "nbformat_minor": 2
}
