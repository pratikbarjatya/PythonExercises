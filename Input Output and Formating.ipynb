{
 "cells": [
  {
   "cell_type": "code",
   "execution_count": 1,
   "metadata": {},
   "outputs": [
    {
     "name": "stdout",
     "output_type": "stream",
     "text": [
      "The output will be displayed on screen\n"
     ]
    }
   ],
   "source": [
    "print(\"The output will be displayed on screen\")"
   ]
  },
  {
   "cell_type": "code",
   "execution_count": 3,
   "metadata": {},
   "outputs": [
    {
     "name": "stdout",
     "output_type": "stream",
     "text": [
      "The value of my Int is  400\n",
      "The value of my Int is 400\n"
     ]
    }
   ],
   "source": [
    "myInt = 400\n",
    "print(\"The value of my Int is \",myInt)\n",
    "print(\"The value of my Int is \"+ str(myInt))    #if you want to use string function."
   ]
  },
  {
   "cell_type": "code",
   "execution_count": 4,
   "metadata": {},
   "outputs": [
    {
     "name": "stdout",
     "output_type": "stream",
     "text": [
      "myint1: 20 is the half of myint2: 40\n"
     ]
    }
   ],
   "source": [
    "myInt1 = 20\n",
    "myInt2 = 40\n",
    "print(\"myint1: {} is the half of myint2: {}\".format(myInt1,myInt2))"
   ]
  },
  {
   "cell_type": "code",
   "execution_count": 5,
   "metadata": {},
   "outputs": [
    {
     "name": "stdout",
     "output_type": "stream",
     "text": [
      "myInt2: 40 is the double of myInt1: 20\n"
     ]
    }
   ],
   "source": [
    "myInt1 = 20\n",
    "myInt2 = 40\n",
    "print(\"myInt2: {1} is the double of myInt1: {0}\".format(myInt1,myInt2))"
   ]
  },
  {
   "cell_type": "code",
   "execution_count": 6,
   "metadata": {},
   "outputs": [
    {
     "name": "stdout",
     "output_type": "stream",
     "text": [
      "Welcome Lalit to the world of Data Science\n"
     ]
    }
   ],
   "source": [
    "print(\"Welcome {name} to the world of {ds}\".format(name=\"Lalit\", ds=\"Data Science\"))"
   ]
  },
  {
   "cell_type": "code",
   "execution_count": 9,
   "metadata": {},
   "outputs": [
    {
     "name": "stdout",
     "output_type": "stream",
     "text": [
      "Welcome Lalit Garg to the world of Data Science and we are learning Python\n"
     ]
    }
   ],
   "source": [
    "print(\"Welcome {1} to the world of {0} and we are learning {subject}\".\\\n",
    "      format(\"Data Science\", \"Lalit Garg\", subject = \"Python\"))"
   ]
  },
  {
   "cell_type": "code",
   "execution_count": 15,
   "metadata": {},
   "outputs": [
    {
     "name": "stdout",
     "output_type": "stream",
     "text": [
      "+3.140000;-3.140000\n"
     ]
    }
   ],
   "source": [
    "print('{:+f};{:+f}'.format(3.14,-3.14))"
   ]
  },
  {
   "cell_type": "code",
   "execution_count": 1,
   "metadata": {},
   "outputs": [
    {
     "name": "stdout",
     "output_type": "stream",
     "text": [
      "Please enter some data: Hello World!\n",
      "You typed in:  Hello World!\n"
     ]
    }
   ],
   "source": [
    "userInput = input(\"Please enter some data: \")\n",
    "print(\"You typed in: \",userInput)"
   ]
  },
  {
   "cell_type": "code",
   "execution_count": 2,
   "metadata": {},
   "outputs": [
    {
     "name": "stdout",
     "output_type": "stream",
     "text": [
      "Enter class strength: 150\n",
      "You typed in:  150\n",
      "userInput type is :  <class 'str'>\n"
     ]
    }
   ],
   "source": [
    "userInput = input(\"Enter class strength: \")\n",
    "print(\"You typed in: \",userInput)\n",
    "print(\"userInput type is : \",type(userInput))"
   ]
  },
  {
   "cell_type": "code",
   "execution_count": 3,
   "metadata": {},
   "outputs": [
    {
     "name": "stdout",
     "output_type": "stream",
     "text": [
      "classStrength value is:  150\n",
      "classStrength type is :  <class 'int'>\n"
     ]
    }
   ],
   "source": [
    "classStrength = int(userInput)\n",
    "print(\"classStrength value is: \",classStrength)\n",
    "print(\"classStrength type is : \",type(classStrength))"
   ]
  }
 ],
 "metadata": {
  "kernelspec": {
   "display_name": "Python 3",
   "language": "python",
   "name": "python3"
  },
  "language_info": {
   "codemirror_mode": {
    "name": "ipython",
    "version": 3
   },
   "file_extension": ".py",
   "mimetype": "text/x-python",
   "name": "python",
   "nbconvert_exporter": "python",
   "pygments_lexer": "ipython3",
   "version": "3.7.3"
  }
 },
 "nbformat": 4,
 "nbformat_minor": 2
}
