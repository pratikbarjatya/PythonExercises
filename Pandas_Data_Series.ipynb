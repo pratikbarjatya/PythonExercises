{
  "nbformat": 4,
  "nbformat_minor": 0,
  "metadata": {
    "colab": {
      "name": "Pandas Data Series.ipynb",
      "provenance": [],
      "include_colab_link": true
    },
    "kernelspec": {
      "name": "python3",
      "display_name": "Python 3"
    }
  },
  "cells": [
    {
      "cell_type": "markdown",
      "metadata": {
        "id": "view-in-github",
        "colab_type": "text"
      },
      "source": [
        "<a href=\"https://colab.research.google.com/github/lalitgarg12/python-exercises/blob/master/Pandas_Data_Series.ipynb\" target=\"_parent\"><img src=\"https://colab.research.google.com/assets/colab-badge.svg\" alt=\"Open In Colab\"/></a>"
      ]
    },
    {
      "cell_type": "markdown",
      "metadata": {
        "id": "W_X6-2GQt7lM",
        "colab_type": "text"
      },
      "source": [
        "1. 1. Write a Python program to create and display a one-dimensional array-like object containing an array of data using Pandas module."
      ]
    },
    {
      "cell_type": "code",
      "metadata": {
        "id": "qQ19fzQIuDVT",
        "colab_type": "code",
        "outputId": "576e0b16-2e05-46e3-fc79-5ca72a9e69da",
        "colab": {
          "base_uri": "https://localhost:8080/",
          "height": 118
        }
      },
      "source": [
        "import pandas as pd\n",
        "ds = pd.Series([2, 4, 6, 8, 10])\n",
        "print(ds)"
      ],
      "execution_count": 14,
      "outputs": [
        {
          "output_type": "stream",
          "text": [
            "0     2\n",
            "1     4\n",
            "2     6\n",
            "3     8\n",
            "4    10\n",
            "dtype: int64\n"
          ],
          "name": "stdout"
        }
      ]
    },
    {
      "cell_type": "markdown",
      "metadata": {
        "id": "G_e2mKCWcSFc",
        "colab_type": "text"
      },
      "source": [
        "2. Write a Python program to convert a Panda module Series to Python list and it's type."
      ]
    },
    {
      "cell_type": "code",
      "metadata": {
        "id": "Yodf6GtvcTmq",
        "colab_type": "code",
        "outputId": "9532aba8-4c03-4e52-9a47-7d931d20da41",
        "colab": {
          "base_uri": "https://localhost:8080/",
          "height": 202
        }
      },
      "source": [
        "import pandas as pd\n",
        "ds = pd.Series([2, 4, 6, 8, 10])\n",
        "print(\"Pandas Series and type\")\n",
        "print(ds)\n",
        "print(type(ds))\n",
        "print(\"Convert Pandas Series to Python list\")\n",
        "print(ds.tolist())\n",
        "print(type(ds.tolist()))"
      ],
      "execution_count": 15,
      "outputs": [
        {
          "output_type": "stream",
          "text": [
            "Pandas Series and type\n",
            "0     2\n",
            "1     4\n",
            "2     6\n",
            "3     8\n",
            "4    10\n",
            "dtype: int64\n",
            "<class 'pandas.core.series.Series'>\n",
            "Convert Pandas Series to Python list\n",
            "[2, 4, 6, 8, 10]\n",
            "<class 'list'>\n"
          ],
          "name": "stdout"
        }
      ]
    },
    {
      "cell_type": "markdown",
      "metadata": {
        "id": "vTmpylcJRXCI",
        "colab_type": "text"
      },
      "source": [
        "3. Write a Python program to add, subtract, multiple and divide two Pandas Series."
      ]
    },
    {
      "cell_type": "code",
      "metadata": {
        "id": "2rMzh5lYRkOZ",
        "colab_type": "code",
        "colab": {
          "base_uri": "https://localhost:8080/",
          "height": 487
        },
        "outputId": "9d87f4af-bd53-4ea2-e543-c5b5b4e542e7"
      },
      "source": [
        "import pandas as pd\n",
        "ds1 = pd.Series([2, 4, 6, 8, 10])\n",
        "ds2 = pd.Series([1, 3, 5, 7, 9])\n",
        "ds = ds1 + ds2\n",
        "print(\"Add two Series:\")\n",
        "print(ds)\n",
        "print(\"Subtract two Series:\")\n",
        "ds = ds1 - ds2\n",
        "print(ds)\n",
        "print(\"Multiply two Series:\")\n",
        "ds = ds1 * ds2\n",
        "print(ds)\n",
        "print(\"Divide Series1 by Series2:\")\n",
        "ds = ds1 / ds2\n",
        "print(ds)\n"
      ],
      "execution_count": 1,
      "outputs": [
        {
          "output_type": "stream",
          "text": [
            "Add two Series:\n",
            "0     3\n",
            "1     7\n",
            "2    11\n",
            "3    15\n",
            "4    19\n",
            "dtype: int64\n",
            "Subtract two Series:\n",
            "0    1\n",
            "1    1\n",
            "2    1\n",
            "3    1\n",
            "4    1\n",
            "dtype: int64\n",
            "Multiply two Series:\n",
            "0     2\n",
            "1    12\n",
            "2    30\n",
            "3    56\n",
            "4    90\n",
            "dtype: int64\n",
            "Divide Series1 by Series2:\n",
            "0    2.000000\n",
            "1    1.333333\n",
            "2    1.200000\n",
            "3    1.142857\n",
            "4    1.111111\n",
            "dtype: float64\n"
          ],
          "name": "stdout"
        }
      ]
    },
    {
      "cell_type": "markdown",
      "metadata": {
        "id": "3ojRU6AsR1U2",
        "colab_type": "text"
      },
      "source": [
        "4. Write a Python program to get the largest integer smaller or equal to the division of the inputs."
      ]
    },
    {
      "cell_type": "code",
      "metadata": {
        "id": "9XiaFpZ7SCYg",
        "colab_type": "code",
        "colab": {
          "base_uri": "https://localhost:8080/",
          "height": 622
        },
        "outputId": "41cdf3a2-44bf-4271-a5c7-727b16a4bca3"
      },
      "source": [
        "import pandas as pd\n",
        "ds1 = pd.Series([2, 4, 6, 8, 10])\n",
        "ds2 = pd.Series([1, 3, 5, 7, 10])\n",
        "print(\"Series1:\")\n",
        "print(ds1)\n",
        "print(\"Series2:\")\n",
        "print(ds2)\n",
        "print(\"Compare the elements of the said Series:\")\n",
        "print(\"Equals:\")\n",
        "print(ds1 == ds2)\n",
        "print(\"Greater than:\")\n",
        "print(ds1 > ds2)\n",
        "print(\"Less than:\")\n",
        "print(ds1 < ds2)\n"
      ],
      "execution_count": 2,
      "outputs": [
        {
          "output_type": "stream",
          "text": [
            "Series1:\n",
            "0     2\n",
            "1     4\n",
            "2     6\n",
            "3     8\n",
            "4    10\n",
            "dtype: int64\n",
            "Series2:\n",
            "0     1\n",
            "1     3\n",
            "2     5\n",
            "3     7\n",
            "4    10\n",
            "dtype: int64\n",
            "Compare the elements of the said Series:\n",
            "Equals:\n",
            "0    False\n",
            "1    False\n",
            "2    False\n",
            "3    False\n",
            "4     True\n",
            "dtype: bool\n",
            "Greater than:\n",
            "0     True\n",
            "1     True\n",
            "2     True\n",
            "3     True\n",
            "4    False\n",
            "dtype: bool\n",
            "Less than:\n",
            "0    False\n",
            "1    False\n",
            "2    False\n",
            "3    False\n",
            "4    False\n",
            "dtype: bool\n"
          ],
          "name": "stdout"
        }
      ]
    },
    {
      "cell_type": "markdown",
      "metadata": {
        "id": "jUuHq6m8SIND",
        "colab_type": "text"
      },
      "source": [
        "5. Write a Python program to convert a dictionary to a Pandas series."
      ]
    },
    {
      "cell_type": "code",
      "metadata": {
        "id": "OhgEs10kSLja",
        "colab_type": "code",
        "colab": {
          "base_uri": "https://localhost:8080/",
          "height": 168
        },
        "outputId": "1f3e1711-bcd8-4054-93b3-aa3df35b74c9"
      },
      "source": [
        "import pandas as pd\n",
        "d1 = {'a': 100, 'b': 200, 'c':300, 'd':400, 'e':800}\n",
        "print(\"Original dictionary:\")\n",
        "print(d1)\n",
        "new_series = pd.Series(d1)\n",
        "print(\"Converted series:\")\n",
        "print(new_series)\n"
      ],
      "execution_count": 3,
      "outputs": [
        {
          "output_type": "stream",
          "text": [
            "Original dictionary:\n",
            "{'a': 100, 'b': 200, 'c': 300, 'd': 400, 'e': 800}\n",
            "Converted series:\n",
            "a    100\n",
            "b    200\n",
            "c    300\n",
            "d    400\n",
            "e    800\n",
            "dtype: int64\n"
          ],
          "name": "stdout"
        }
      ]
    },
    {
      "cell_type": "markdown",
      "metadata": {
        "id": "zZlLRMd8SR7u",
        "colab_type": "text"
      },
      "source": [
        "6. Write a Python program to convert a NumPy array to a Pandas series."
      ]
    },
    {
      "cell_type": "code",
      "metadata": {
        "id": "fJhzlm9jSaCN",
        "colab_type": "code",
        "colab": {
          "base_uri": "https://localhost:8080/",
          "height": 168
        },
        "outputId": "4abf9161-98f1-4e42-bd67-a89f3d01a3e2"
      },
      "source": [
        "import numpy as np\n",
        "import pandas as pd\n",
        "np_array = np.array([10, 20, 30, 40, 50])\n",
        "print(\"NumPy array:\")\n",
        "print(np_array)\n",
        "new_series = pd.Series(np_array)\n",
        "print(\"Converted Pandas series:\")\n",
        "print(new_series)\n"
      ],
      "execution_count": 4,
      "outputs": [
        {
          "output_type": "stream",
          "text": [
            "NumPy array:\n",
            "[10 20 30 40 50]\n",
            "Converted Pandas series:\n",
            "0    10\n",
            "1    20\n",
            "2    30\n",
            "3    40\n",
            "4    50\n",
            "dtype: int64\n"
          ],
          "name": "stdout"
        }
      ]
    },
    {
      "cell_type": "markdown",
      "metadata": {
        "id": "ZCrM7KguSeVL",
        "colab_type": "text"
      },
      "source": [
        "7. Write a Python program to change the data type of given a column or a Series."
      ]
    },
    {
      "cell_type": "code",
      "metadata": {
        "id": "YN59bkZTSgWV",
        "colab_type": "code",
        "colab": {
          "base_uri": "https://localhost:8080/",
          "height": 252
        },
        "outputId": "8c72b690-de01-4537-d1bf-85649c5013a2"
      },
      "source": [
        "import pandas as pd\n",
        "s1 = pd.Series(['100', '200', 'python', '300.12', '400'])\n",
        "print(\"Original Data Series:\")\n",
        "print(s1)\n",
        "print(\"Change the said data type to numeric:\")\n",
        "s2 = pd.to_numeric(s1, errors='coerce')\n",
        "print(s2)"
      ],
      "execution_count": 5,
      "outputs": [
        {
          "output_type": "stream",
          "text": [
            "Original Data Series:\n",
            "0       100\n",
            "1       200\n",
            "2    python\n",
            "3    300.12\n",
            "4       400\n",
            "dtype: object\n",
            "Change the said data type to numeric:\n",
            "0    100.00\n",
            "1    200.00\n",
            "2       NaN\n",
            "3    300.12\n",
            "4    400.00\n",
            "dtype: float64\n"
          ],
          "name": "stdout"
        }
      ]
    },
    {
      "cell_type": "markdown",
      "metadata": {
        "id": "PQ0mVUo4Skzk",
        "colab_type": "text"
      },
      "source": [
        "8. Write a Python Pandas program to convert the first column of a DataFrame as a Series."
      ]
    },
    {
      "cell_type": "code",
      "metadata": {
        "id": "YmVsjQmiS4CK",
        "colab_type": "code",
        "colab": {
          "base_uri": "https://localhost:8080/",
          "height": 319
        },
        "outputId": "7ac411fc-1d94-40f3-f12b-eb2ef07fb9ad"
      },
      "source": [
        "import pandas as pd\n",
        "d = {'col1': [1, 2, 3, 4, 7, 11], 'col2': [4, 5, 6, 9, 5, 0], 'col3': [7, 5, 8, 12, 1,11]}\n",
        "df = pd.DataFrame(data=d)\n",
        "print(\"Original DataFrame\")\n",
        "print(df)\n",
        "s1 = df.iloc[:,0]\n",
        "print(\"\\n1st column as a Series:\")\n",
        "print(s1)\n",
        "print(type(s1))\n"
      ],
      "execution_count": 6,
      "outputs": [
        {
          "output_type": "stream",
          "text": [
            "Original DataFrame\n",
            "   col1  col2  col3\n",
            "0     1     4     7\n",
            "1     2     5     5\n",
            "2     3     6     8\n",
            "3     4     9    12\n",
            "4     7     5     1\n",
            "5    11     0    11\n",
            "\n",
            "1st column as a Series:\n",
            "0     1\n",
            "1     2\n",
            "2     3\n",
            "3     4\n",
            "4     7\n",
            "5    11\n",
            "Name: col1, dtype: int64\n",
            "<class 'pandas.core.series.Series'>\n"
          ],
          "name": "stdout"
        }
      ]
    },
    {
      "cell_type": "markdown",
      "metadata": {
        "id": "DY_7T2ubS97P",
        "colab_type": "text"
      },
      "source": [
        "9. Write a Pandas program to convert a given Series to an array."
      ]
    },
    {
      "cell_type": "code",
      "metadata": {
        "id": "Sx_82TxQTA9w",
        "colab_type": "code",
        "colab": {
          "base_uri": "https://localhost:8080/",
          "height": 168
        },
        "outputId": "4a1d8d65-67cc-4ba7-dd89-0f8737f87dac"
      },
      "source": [
        "import pandas as pd\n",
        "import numpy as np\n",
        "s1 = pd.Series(['100', '200', 'python', '300.12', '400'])\n",
        "print(\"Original Data Series:\")\n",
        "print(s1)\n",
        "print(\"Series to an array\")\n",
        "#a = np.array(s1.values.tolist())\n",
        "a = np.asarray(s1)\n",
        "print (a)"
      ],
      "execution_count": 8,
      "outputs": [
        {
          "output_type": "stream",
          "text": [
            "Original Data Series:\n",
            "0       100\n",
            "1       200\n",
            "2    python\n",
            "3    300.12\n",
            "4       400\n",
            "dtype: object\n",
            "Series to an array\n",
            "['100' '200' 'python' '300.12' '400']\n"
          ],
          "name": "stdout"
        }
      ]
    },
    {
      "cell_type": "markdown",
      "metadata": {
        "id": "sjVB9p7MTljI",
        "colab_type": "text"
      },
      "source": [
        "10. Write a Pandas program to convert Series of lists to one Series."
      ]
    },
    {
      "cell_type": "code",
      "metadata": {
        "id": "0uuzEKGqTqhO",
        "colab_type": "code",
        "colab": {
          "base_uri": "https://localhost:8080/",
          "height": 235
        },
        "outputId": "3ef05532-b552-48bc-aad1-e5a67c7de59d"
      },
      "source": [
        "import pandas as pd\n",
        "s = pd.Series([\n",
        "    ['Red', 'Green', 'White'],\n",
        "    ['Red', 'Black'],\n",
        "    ['Yellow']])\n",
        "print(\"Original Series of list\")\n",
        "print(s)\n",
        "s = s.apply(pd.Series).stack().reset_index(drop=True)\n",
        "print(\"One Series\")\n",
        "print(s)\n"
      ],
      "execution_count": 9,
      "outputs": [
        {
          "output_type": "stream",
          "text": [
            "Original Series of list\n",
            "0    [Red, Green, White]\n",
            "1           [Red, Black]\n",
            "2               [Yellow]\n",
            "dtype: object\n",
            "One Series\n",
            "0       Red\n",
            "1     Green\n",
            "2     White\n",
            "3       Red\n",
            "4     Black\n",
            "5    Yellow\n",
            "dtype: object\n"
          ],
          "name": "stdout"
        }
      ]
    },
    {
      "cell_type": "markdown",
      "metadata": {
        "id": "ZuUUmD3DUSfP",
        "colab_type": "text"
      },
      "source": [
        "11. Write a Pandas program to sort a given Series."
      ]
    },
    {
      "cell_type": "code",
      "metadata": {
        "id": "-PPkPHbSUU59",
        "colab_type": "code",
        "colab": {
          "base_uri": "https://localhost:8080/",
          "height": 235
        },
        "outputId": "753f2336-8266-435a-bed6-6f8bb974bd4c"
      },
      "source": [
        "import pandas as pd\n",
        "s = pd.Series(['100', '200', 'python', '300.12', '400'])\n",
        "print(\"Original Data Series:\")\n",
        "print(s)\n",
        "new_s = pd.Series(s).sort_values()\n",
        "print(new_s)\n"
      ],
      "execution_count": 10,
      "outputs": [
        {
          "output_type": "stream",
          "text": [
            "Original Data Series:\n",
            "0       100\n",
            "1       200\n",
            "2    python\n",
            "3    300.12\n",
            "4       400\n",
            "dtype: object\n",
            "0       100\n",
            "1       200\n",
            "3    300.12\n",
            "4       400\n",
            "2    python\n",
            "dtype: object\n"
          ],
          "name": "stdout"
        }
      ]
    },
    {
      "cell_type": "markdown",
      "metadata": {
        "id": "X9Xz3yWLUu8m",
        "colab_type": "text"
      },
      "source": [
        "12. Write a Pandas program to add some data to an existing Series."
      ]
    },
    {
      "cell_type": "code",
      "metadata": {
        "id": "p-HZOJA1Ux01",
        "colab_type": "code",
        "colab": {
          "base_uri": "https://localhost:8080/",
          "height": 302
        },
        "outputId": "62b2867c-202f-4301-927d-cb3dd7abb1d2"
      },
      "source": [
        "import pandas as pd\n",
        "s = pd.Series(['100', '200', 'python', '300.12', '400'])\n",
        "print(\"Original Data Series:\")\n",
        "print(s)\n",
        "print(\"\\nData Series after adding some data:\")\n",
        "new_s = s.append(pd.Series(['500', 'php']))\n",
        "print(new_s)"
      ],
      "execution_count": 11,
      "outputs": [
        {
          "output_type": "stream",
          "text": [
            "Original Data Series:\n",
            "0       100\n",
            "1       200\n",
            "2    python\n",
            "3    300.12\n",
            "4       400\n",
            "dtype: object\n",
            "\n",
            "Data Series after adding some data:\n",
            "0       100\n",
            "1       200\n",
            "2    python\n",
            "3    300.12\n",
            "4       400\n",
            "0       500\n",
            "1       php\n",
            "dtype: object\n"
          ],
          "name": "stdout"
        }
      ]
    },
    {
      "cell_type": "markdown",
      "metadata": {
        "id": "0y2fMVzSU199",
        "colab_type": "text"
      },
      "source": [
        "13. Write a Pandas program to create a subset of a given series based on value and condition."
      ]
    },
    {
      "cell_type": "code",
      "metadata": {
        "id": "OJAEjrVTU65g",
        "colab_type": "code",
        "colab": {
          "base_uri": "https://localhost:8080/",
          "height": 386
        },
        "outputId": "c97a5000-aa18-43f7-e46e-8b36bcb375be"
      },
      "source": [
        "import pandas as pd\n",
        "s = pd.Series([0, 1,2,3,4,5,6,7,8,9,10])\n",
        "print(\"Original Data Series:\")\n",
        "print(s)\n",
        "print(\"\\nSubset of the above Data Series:\")\n",
        "n = 6\n",
        "new_s = s[s < n]\n",
        "print(new_s)"
      ],
      "execution_count": 12,
      "outputs": [
        {
          "output_type": "stream",
          "text": [
            "Original Data Series:\n",
            "0      0\n",
            "1      1\n",
            "2      2\n",
            "3      3\n",
            "4      4\n",
            "5      5\n",
            "6      6\n",
            "7      7\n",
            "8      8\n",
            "9      9\n",
            "10    10\n",
            "dtype: int64\n",
            "\n",
            "Subset of the above Data Series:\n",
            "0    0\n",
            "1    1\n",
            "2    2\n",
            "3    3\n",
            "4    4\n",
            "5    5\n",
            "dtype: int64\n"
          ],
          "name": "stdout"
        }
      ]
    },
    {
      "cell_type": "markdown",
      "metadata": {
        "id": "AvaqSy7BU_A8",
        "colab_type": "text"
      },
      "source": [
        "15. Write a Pandas program to create the mean and standard deviation of the data of a given Series."
      ]
    },
    {
      "cell_type": "code",
      "metadata": {
        "id": "bh9vMcU_VC25",
        "colab_type": "code",
        "colab": {
          "base_uri": "https://localhost:8080/",
          "height": 302
        },
        "outputId": "e5245e0a-c973-49fc-c786-de608c39ba4d"
      },
      "source": [
        "import pandas as pd\n",
        "s = pd.Series(data = [1,2,3,4,5,6,7,8,9,5,3])\n",
        "print(\"Original Data Series:\")\n",
        "print(s)\n",
        "print(\"Mean of the said Data Series:\")\n",
        "print(s.mean())\n",
        "print(\"Standard deviation of the said Data Series:\")\n",
        "print(s.std())\n"
      ],
      "execution_count": 13,
      "outputs": [
        {
          "output_type": "stream",
          "text": [
            "Original Data Series:\n",
            "0     1\n",
            "1     2\n",
            "2     3\n",
            "3     4\n",
            "4     5\n",
            "5     6\n",
            "6     7\n",
            "7     8\n",
            "8     9\n",
            "9     5\n",
            "10    3\n",
            "dtype: int64\n",
            "Mean of the said Data Series:\n",
            "4.818181818181818\n",
            "Standard deviation of the said Data Series:\n",
            "2.522624895547565\n"
          ],
          "name": "stdout"
        }
      ]
    }
  ]
}